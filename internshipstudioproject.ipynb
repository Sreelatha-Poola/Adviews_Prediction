{
  "nbformat": 4,
  "nbformat_minor": 0,
  "metadata": {
    "colab": {
      "name": "internshipstudioproject.ipynb",
      "provenance": [],
      "collapsed_sections": []
    },
    "kernelspec": {
      "name": "python3",
      "display_name": "Python 3"
    },
    "language_info": {
      "name": "python"
    }
  },
  "cells": [
    {
      "cell_type": "markdown",
      "metadata": {
        "id": "-tTRgU9wrkAp"
      },
      "source": [
        "# Importing necessary libraries"
      ]
    },
    {
      "cell_type": "code",
      "metadata": {
        "id": "B64G9tR-rhfC"
      },
      "source": [
        "import numpy as np\n",
        "import pandas as pd\n",
        "import matplotlib.cm as cm\n",
        "import matplotlib.pyplot as plt"
      ],
      "execution_count": 183,
      "outputs": []
    },
    {
      "cell_type": "markdown",
      "metadata": {
        "id": "JzkreuU1rxBp"
      },
      "source": [
        "# Getting train data"
      ]
    },
    {
      "cell_type": "code",
      "metadata": {
        "colab": {
          "base_uri": "https://localhost:8080/",
          "height": 206
        },
        "id": "qLeJCx43rTag",
        "outputId": "457d134f-86ee-4a52-8f2a-523ffcc0b3f1"
      },
      "source": [
        "path = \"\" # we need to put path of the folder of the data if it's not in the same folder\n",
        "data_train = pd.read_csv(path + \"train.csv\")\n",
        "data_train.head()"
      ],
      "execution_count": 184,
      "outputs": [
        {
          "output_type": "execute_result",
          "data": {
            "text/html": [
              "<div>\n",
              "<style scoped>\n",
              "    .dataframe tbody tr th:only-of-type {\n",
              "        vertical-align: middle;\n",
              "    }\n",
              "\n",
              "    .dataframe tbody tr th {\n",
              "        vertical-align: top;\n",
              "    }\n",
              "\n",
              "    .dataframe thead th {\n",
              "        text-align: right;\n",
              "    }\n",
              "</style>\n",
              "<table border=\"1\" class=\"dataframe\">\n",
              "  <thead>\n",
              "    <tr style=\"text-align: right;\">\n",
              "      <th></th>\n",
              "      <th>vidid</th>\n",
              "      <th>adview</th>\n",
              "      <th>views</th>\n",
              "      <th>likes</th>\n",
              "      <th>dislikes</th>\n",
              "      <th>comment</th>\n",
              "      <th>published</th>\n",
              "      <th>duration</th>\n",
              "      <th>category</th>\n",
              "    </tr>\n",
              "  </thead>\n",
              "  <tbody>\n",
              "    <tr>\n",
              "      <th>0</th>\n",
              "      <td>VID_18655</td>\n",
              "      <td>40</td>\n",
              "      <td>1031602</td>\n",
              "      <td>8523</td>\n",
              "      <td>363</td>\n",
              "      <td>1095</td>\n",
              "      <td>2016-09-14</td>\n",
              "      <td>PT7M37S</td>\n",
              "      <td>F</td>\n",
              "    </tr>\n",
              "    <tr>\n",
              "      <th>1</th>\n",
              "      <td>VID_14135</td>\n",
              "      <td>2</td>\n",
              "      <td>1707</td>\n",
              "      <td>56</td>\n",
              "      <td>2</td>\n",
              "      <td>6</td>\n",
              "      <td>2016-10-01</td>\n",
              "      <td>PT9M30S</td>\n",
              "      <td>D</td>\n",
              "    </tr>\n",
              "    <tr>\n",
              "      <th>2</th>\n",
              "      <td>VID_2187</td>\n",
              "      <td>1</td>\n",
              "      <td>2023</td>\n",
              "      <td>25</td>\n",
              "      <td>0</td>\n",
              "      <td>2</td>\n",
              "      <td>2016-07-02</td>\n",
              "      <td>PT2M16S</td>\n",
              "      <td>C</td>\n",
              "    </tr>\n",
              "    <tr>\n",
              "      <th>3</th>\n",
              "      <td>VID_23096</td>\n",
              "      <td>6</td>\n",
              "      <td>620860</td>\n",
              "      <td>777</td>\n",
              "      <td>161</td>\n",
              "      <td>153</td>\n",
              "      <td>2016-07-27</td>\n",
              "      <td>PT4M22S</td>\n",
              "      <td>H</td>\n",
              "    </tr>\n",
              "    <tr>\n",
              "      <th>4</th>\n",
              "      <td>VID_10175</td>\n",
              "      <td>1</td>\n",
              "      <td>666</td>\n",
              "      <td>1</td>\n",
              "      <td>0</td>\n",
              "      <td>0</td>\n",
              "      <td>2016-06-29</td>\n",
              "      <td>PT31S</td>\n",
              "      <td>D</td>\n",
              "    </tr>\n",
              "  </tbody>\n",
              "</table>\n",
              "</div>"
            ],
            "text/plain": [
              "       vidid  adview    views likes  ... comment   published duration category\n",
              "0  VID_18655      40  1031602  8523  ...    1095  2016-09-14  PT7M37S        F\n",
              "1  VID_14135       2     1707    56  ...       6  2016-10-01  PT9M30S        D\n",
              "2   VID_2187       1     2023    25  ...       2  2016-07-02  PT2M16S        C\n",
              "3  VID_23096       6   620860   777  ...     153  2016-07-27  PT4M22S        H\n",
              "4  VID_10175       1      666     1  ...       0  2016-06-29    PT31S        D\n",
              "\n",
              "[5 rows x 9 columns]"
            ]
          },
          "metadata": {
            "tags": []
          },
          "execution_count": 184
        }
      ]
    },
    {
      "cell_type": "code",
      "metadata": {
        "colab": {
          "base_uri": "https://localhost:8080/"
        },
        "id": "sUovPwjJrVXH",
        "outputId": "968cf27a-c1be-46da-fea0-4c9c9dbbb4cf"
      },
      "source": [
        "print(\"\\\"shape of traindata\\\" \\n \",data_train.shape)\n",
        "print(\"\\\"stats of features \\\" \\n\",data_train.describe())\n",
        "print(\" \\\"data type of features \\\"\\n\",data_train.info())"
      ],
      "execution_count": 185,
      "outputs": [
        {
          "output_type": "stream",
          "text": [
            "\"shape of traindata\" \n",
            "  (14999, 9)\n",
            "\"stats of features \" \n",
            "              adview\n",
            "count  1.499900e+04\n",
            "mean   2.107791e+03\n",
            "std    5.237711e+04\n",
            "min    1.000000e+00\n",
            "25%    1.000000e+00\n",
            "50%    2.000000e+00\n",
            "75%    6.000000e+00\n",
            "max    5.429665e+06\n",
            "<class 'pandas.core.frame.DataFrame'>\n",
            "RangeIndex: 14999 entries, 0 to 14998\n",
            "Data columns (total 9 columns):\n",
            " #   Column     Non-Null Count  Dtype \n",
            "---  ------     --------------  ----- \n",
            " 0   vidid      14999 non-null  object\n",
            " 1   adview     14999 non-null  int64 \n",
            " 2   views      14999 non-null  object\n",
            " 3   likes      14999 non-null  object\n",
            " 4   dislikes   14999 non-null  object\n",
            " 5   comment    14999 non-null  object\n",
            " 6   published  14999 non-null  object\n",
            " 7   duration   14999 non-null  object\n",
            " 8   category   14999 non-null  object\n",
            "dtypes: int64(1), object(8)\n",
            "memory usage: 1.0+ MB\n",
            " \"data type of features \"\n",
            " None\n"
          ],
          "name": "stdout"
        }
      ]
    },
    {
      "cell_type": "markdown",
      "metadata": {
        "id": "dwf3pnQar3FL"
      },
      "source": [
        "# Visualization with matplotlib"
      ]
    },
    {
      "cell_type": "code",
      "metadata": {
        "colab": {
          "base_uri": "https://localhost:8080/",
          "height": 524
        },
        "id": "T8YFfK5TkRJP",
        "outputId": "096e53b9-dfd1-4b4a-ac2f-6ab0f25a669d"
      },
      "source": [
        "# Individual Plots\n",
        "plt.hist(data_train[\"category\"])\n",
        "plt.show()#more data is occupied at D\n",
        "plt.plot(data_train[\"adview\"])\n",
        "plt.show()"
      ],
      "execution_count": 186,
      "outputs": [
        {
          "output_type": "display_data",
          "data": {
            "image/png": "[encoded data removed]",
            "text/plain": [
              "<Figure size 432x288 with 1 Axes>"
            ]
          },
          "metadata": {
            "tags": [],
            "needs_background": "light"
          }
        },
        {
          "output_type": "display_data",
          "data": {
            "image/png": "[encoded data removed]",
            "text/plain": [
              "<Figure size 432x288 with 1 Axes>"
            ]
          },
          "metadata": {
            "tags": [],
            "needs_background": "light"
          }
        }
      ]
    },
    {
      "cell_type": "code",
      "metadata": {
        "colab": {
          "base_uri": "https://localhost:8080/",
          "height": 294
        },
        "id": "PSSe8kVeaVfZ",
        "outputId": "7b5d83dd-e5bc-4b95-8a9e-9830941e1fba"
      },
      "source": [
        "plt.plot(data_train['views'],data_train['adview'])"
      ],
      "execution_count": 187,
      "outputs": [
        {
          "output_type": "execute_result",
          "data": {
            "text/plain": [
              "[<matplotlib.lines.Line2D at 0x7fdd8dacdad0>]"
            ]
          },
          "metadata": {
            "tags": []
          },
          "execution_count": 187
        },
        {
          "output_type": "display_data",
          "data": {
            "image/png": "[encoded data removed]",
            "text/plain": [
              "<Figure size 432x288 with 1 Axes>"
            ]
          },
          "metadata": {
            "tags": [],
            "needs_background": "light"
          }
        }
      ]
    },
    {
      "cell_type": "markdown",
      "metadata": {
        "id": "e3QH_WC9sC-G"
      },
      "source": [
        "# Removing outliers"
      ]
    },
    {
      "cell_type": "code",
      "metadata": {
        "id": "MHg7pch3sHOr"
      },
      "source": [
        "# Remove videos with adview greater than 2000000 as outlier\n",
        "data_train = data_train[data_train[\"adview\"] <2000000]"
      ],
      "execution_count": 188,
      "outputs": []
    },
    {
      "cell_type": "code",
      "metadata": {
        "colab": {
          "base_uri": "https://localhost:8080/",
          "height": 206
        },
        "id": "n4u50CGkMDEi",
        "outputId": "9ea1e4f1-bbf2-4cfd-ef93-0f89b84e6bac"
      },
      "source": [
        "data_train.head()"
      ],
      "execution_count": 189,
      "outputs": [
        {
          "output_type": "execute_result",
          "data": {
            "text/html": [
              "<div>\n",
              "<style scoped>\n",
              "    .dataframe tbody tr th:only-of-type {\n",
              "        vertical-align: middle;\n",
              "    }\n",
              "\n",
              "    .dataframe tbody tr th {\n",
              "        vertical-align: top;\n",
              "    }\n",
              "\n",
              "    .dataframe thead th {\n",
              "        text-align: right;\n",
              "    }\n",
              "</style>\n",
              "<table border=\"1\" class=\"dataframe\">\n",
              "  <thead>\n",
              "    <tr style=\"text-align: right;\">\n",
              "      <th></th>\n",
              "      <th>vidid</th>\n",
              "      <th>adview</th>\n",
              "      <th>views</th>\n",
              "      <th>likes</th>\n",
              "      <th>dislikes</th>\n",
              "      <th>comment</th>\n",
              "      <th>published</th>\n",
              "      <th>duration</th>\n",
              "      <th>category</th>\n",
              "    </tr>\n",
              "  </thead>\n",
              "  <tbody>\n",
              "    <tr>\n",
              "      <th>0</th>\n",
              "      <td>VID_18655</td>\n",
              "      <td>40</td>\n",
              "      <td>1031602</td>\n",
              "      <td>8523</td>\n",
              "      <td>363</td>\n",
              "      <td>1095</td>\n",
              "      <td>2016-09-14</td>\n",
              "      <td>PT7M37S</td>\n",
              "      <td>F</td>\n",
              "    </tr>\n",
              "    <tr>\n",
              "      <th>1</th>\n",
              "      <td>VID_14135</td>\n",
              "      <td>2</td>\n",
              "      <td>1707</td>\n",
              "      <td>56</td>\n",
              "      <td>2</td>\n",
              "      <td>6</td>\n",
              "      <td>2016-10-01</td>\n",
              "      <td>PT9M30S</td>\n",
              "      <td>D</td>\n",
              "    </tr>\n",
              "    <tr>\n",
              "      <th>2</th>\n",
              "      <td>VID_2187</td>\n",
              "      <td>1</td>\n",
              "      <td>2023</td>\n",
              "      <td>25</td>\n",
              "      <td>0</td>\n",
              "      <td>2</td>\n",
              "      <td>2016-07-02</td>\n",
              "      <td>PT2M16S</td>\n",
              "      <td>C</td>\n",
              "    </tr>\n",
              "    <tr>\n",
              "      <th>3</th>\n",
              "      <td>VID_23096</td>\n",
              "      <td>6</td>\n",
              "      <td>620860</td>\n",
              "      <td>777</td>\n",
              "      <td>161</td>\n",
              "      <td>153</td>\n",
              "      <td>2016-07-27</td>\n",
              "      <td>PT4M22S</td>\n",
              "      <td>H</td>\n",
              "    </tr>\n",
              "    <tr>\n",
              "      <th>4</th>\n",
              "      <td>VID_10175</td>\n",
              "      <td>1</td>\n",
              "      <td>666</td>\n",
              "      <td>1</td>\n",
              "      <td>0</td>\n",
              "      <td>0</td>\n",
              "      <td>2016-06-29</td>\n",
              "      <td>PT31S</td>\n",
              "      <td>D</td>\n",
              "    </tr>\n",
              "  </tbody>\n",
              "</table>\n",
              "</div>"
            ],
            "text/plain": [
              "       vidid  adview    views likes  ... comment   published duration category\n",
              "0  VID_18655      40  1031602  8523  ...    1095  2016-09-14  PT7M37S        F\n",
              "1  VID_14135       2     1707    56  ...       6  2016-10-01  PT9M30S        D\n",
              "2   VID_2187       1     2023    25  ...       2  2016-07-02  PT2M16S        C\n",
              "3  VID_23096       6   620860   777  ...     153  2016-07-27  PT4M22S        H\n",
              "4  VID_10175       1      666     1  ...       0  2016-06-29    PT31S        D\n",
              "\n",
              "[5 rows x 9 columns]"
            ]
          },
          "metadata": {
            "tags": []
          },
          "execution_count": 189
        }
      ]
    },
    {
      "cell_type": "code",
      "metadata": {
        "id": "zwTtT-z7MoWC"
      },
      "source": [
        "data_train.drop('vidid',axis=1,inplace=True)#as video id doesnt contribute anything to the adviews,we can remove"
      ],
      "execution_count": 190,
      "outputs": []
    },
    {
      "cell_type": "markdown",
      "metadata": {
        "id": "H7Sm3a5CsPZV"
      },
      "source": [
        "#visualization with Seaborn library\n"
      ]
    },
    {
      "cell_type": "code",
      "metadata": {
        "id": "0c-qE_sRkVqR"
      },
      "source": [
        "# Heatmap\n",
        "import seaborn as sns\n",
        "#f, ax = plt.subplots(figsize=(10, 8))\n",
        "corr = data_train.corr()\n",
        "sns.heatmap(corr,mask=np.zeros_like(corr, dtype=np.bool), cmap=sns.diverging_palette(220, 10, as_cmap=True),square=True, ax=ax,annot=True)\n",
        "plt.show()"
      ],
      "execution_count": 191,
      "outputs": []
    },
    {
      "cell_type": "markdown",
      "metadata": {
        "id": "2dM64Ph-uiN0"
      },
      "source": [
        "# removing unnecessary data....converting object data to int"
      ]
    },
    {
      "cell_type": "code",
      "metadata": {
        "colab": {
          "base_uri": "https://localhost:8080/",
          "height": 206
        },
        "id": "ELrmotSPkZ_U",
        "outputId": "0390db6f-665a-4bae-cc8f-e27d72aff920"
      },
      "source": [
        "# Removing character \"F\" present in data\n",
        "data_train=data_train[data_train.views!='F']\n",
        "data_train=data_train[data_train.likes!='F']\n",
        "data_train=data_train[data_train.dislikes!='F']\n",
        "data_train=data_train[data_train.comment!='F']\n",
        "data_train.head()\n"
      ],
      "execution_count": 192,
      "outputs": [
        {
          "output_type": "execute_result",
          "data": {
            "text/html": [
              "<div>\n",
              "<style scoped>\n",
              "    .dataframe tbody tr th:only-of-type {\n",
              "        vertical-align: middle;\n",
              "    }\n",
              "\n",
              "    .dataframe tbody tr th {\n",
              "        vertical-align: top;\n",
              "    }\n",
              "\n",
              "    .dataframe thead th {\n",
              "        text-align: right;\n",
              "    }\n",
              "</style>\n",
              "<table border=\"1\" class=\"dataframe\">\n",
              "  <thead>\n",
              "    <tr style=\"text-align: right;\">\n",
              "      <th></th>\n",
              "      <th>adview</th>\n",
              "      <th>views</th>\n",
              "      <th>likes</th>\n",
              "      <th>dislikes</th>\n",
              "      <th>comment</th>\n",
              "      <th>published</th>\n",
              "      <th>duration</th>\n",
              "      <th>category</th>\n",
              "    </tr>\n",
              "  </thead>\n",
              "  <tbody>\n",
              "    <tr>\n",
              "      <th>0</th>\n",
              "      <td>40</td>\n",
              "      <td>1031602</td>\n",
              "      <td>8523</td>\n",
              "      <td>363</td>\n",
              "      <td>1095</td>\n",
              "      <td>2016-09-14</td>\n",
              "      <td>PT7M37S</td>\n",
              "      <td>F</td>\n",
              "    </tr>\n",
              "    <tr>\n",
              "      <th>1</th>\n",
              "      <td>2</td>\n",
              "      <td>1707</td>\n",
              "      <td>56</td>\n",
              "      <td>2</td>\n",
              "      <td>6</td>\n",
              "      <td>2016-10-01</td>\n",
              "      <td>PT9M30S</td>\n",
              "      <td>D</td>\n",
              "    </tr>\n",
              "    <tr>\n",
              "      <th>2</th>\n",
              "      <td>1</td>\n",
              "      <td>2023</td>\n",
              "      <td>25</td>\n",
              "      <td>0</td>\n",
              "      <td>2</td>\n",
              "      <td>2016-07-02</td>\n",
              "      <td>PT2M16S</td>\n",
              "      <td>C</td>\n",
              "    </tr>\n",
              "    <tr>\n",
              "      <th>3</th>\n",
              "      <td>6</td>\n",
              "      <td>620860</td>\n",
              "      <td>777</td>\n",
              "      <td>161</td>\n",
              "      <td>153</td>\n",
              "      <td>2016-07-27</td>\n",
              "      <td>PT4M22S</td>\n",
              "      <td>H</td>\n",
              "    </tr>\n",
              "    <tr>\n",
              "      <th>4</th>\n",
              "      <td>1</td>\n",
              "      <td>666</td>\n",
              "      <td>1</td>\n",
              "      <td>0</td>\n",
              "      <td>0</td>\n",
              "      <td>2016-06-29</td>\n",
              "      <td>PT31S</td>\n",
              "      <td>D</td>\n",
              "    </tr>\n",
              "  </tbody>\n",
              "</table>\n",
              "</div>"
            ],
            "text/plain": [
              "   adview    views likes dislikes comment   published duration category\n",
              "0      40  1031602  8523      363    1095  2016-09-14  PT7M37S        F\n",
              "1       2     1707    56        2       6  2016-10-01  PT9M30S        D\n",
              "2       1     2023    25        0       2  2016-07-02  PT2M16S        C\n",
              "3       6   620860   777      161     153  2016-07-27  PT4M22S        H\n",
              "4       1      666     1        0       0  2016-06-29    PT31S        D"
            ]
          },
          "metadata": {
            "tags": []
          },
          "execution_count": 192
        }
      ]
    },
    {
      "cell_type": "code",
      "metadata": {
        "colab": {
          "base_uri": "https://localhost:8080/",
          "height": 206
        },
        "id": "mOM6Pbxpkp62",
        "outputId": "f508a37b-4682-4dd7-d051-f323ffe3d69f"
      },
      "source": [
        "# Assigning each category a number for Category feature\n",
        "category={'A': 1,'B':2,'C':3,'D':4,'E':5,'F':6,'G':7,'H':8}\n",
        "data_train[\"category\"]=data_train[\"category\"].map(category)\n",
        "data_train.head()"
      ],
      "execution_count": 193,
      "outputs": [
        {
          "output_type": "execute_result",
          "data": {
            "text/html": [
              "<div>\n",
              "<style scoped>\n",
              "    .dataframe tbody tr th:only-of-type {\n",
              "        vertical-align: middle;\n",
              "    }\n",
              "\n",
              "    .dataframe tbody tr th {\n",
              "        vertical-align: top;\n",
              "    }\n",
              "\n",
              "    .dataframe thead th {\n",
              "        text-align: right;\n",
              "    }\n",
              "</style>\n",
              "<table border=\"1\" class=\"dataframe\">\n",
              "  <thead>\n",
              "    <tr style=\"text-align: right;\">\n",
              "      <th></th>\n",
              "      <th>adview</th>\n",
              "      <th>views</th>\n",
              "      <th>likes</th>\n",
              "      <th>dislikes</th>\n",
              "      <th>comment</th>\n",
              "      <th>published</th>\n",
              "      <th>duration</th>\n",
              "      <th>category</th>\n",
              "    </tr>\n",
              "  </thead>\n",
              "  <tbody>\n",
              "    <tr>\n",
              "      <th>0</th>\n",
              "      <td>40</td>\n",
              "      <td>1031602</td>\n",
              "      <td>8523</td>\n",
              "      <td>363</td>\n",
              "      <td>1095</td>\n",
              "      <td>2016-09-14</td>\n",
              "      <td>PT7M37S</td>\n",
              "      <td>6</td>\n",
              "    </tr>\n",
              "    <tr>\n",
              "      <th>1</th>\n",
              "      <td>2</td>\n",
              "      <td>1707</td>\n",
              "      <td>56</td>\n",
              "      <td>2</td>\n",
              "      <td>6</td>\n",
              "      <td>2016-10-01</td>\n",
              "      <td>PT9M30S</td>\n",
              "      <td>4</td>\n",
              "    </tr>\n",
              "    <tr>\n",
              "      <th>2</th>\n",
              "      <td>1</td>\n",
              "      <td>2023</td>\n",
              "      <td>25</td>\n",
              "      <td>0</td>\n",
              "      <td>2</td>\n",
              "      <td>2016-07-02</td>\n",
              "      <td>PT2M16S</td>\n",
              "      <td>3</td>\n",
              "    </tr>\n",
              "    <tr>\n",
              "      <th>3</th>\n",
              "      <td>6</td>\n",
              "      <td>620860</td>\n",
              "      <td>777</td>\n",
              "      <td>161</td>\n",
              "      <td>153</td>\n",
              "      <td>2016-07-27</td>\n",
              "      <td>PT4M22S</td>\n",
              "      <td>8</td>\n",
              "    </tr>\n",
              "    <tr>\n",
              "      <th>4</th>\n",
              "      <td>1</td>\n",
              "      <td>666</td>\n",
              "      <td>1</td>\n",
              "      <td>0</td>\n",
              "      <td>0</td>\n",
              "      <td>2016-06-29</td>\n",
              "      <td>PT31S</td>\n",
              "      <td>4</td>\n",
              "    </tr>\n",
              "  </tbody>\n",
              "</table>\n",
              "</div>"
            ],
            "text/plain": [
              "   adview    views likes dislikes comment   published duration  category\n",
              "0      40  1031602  8523      363    1095  2016-09-14  PT7M37S         6\n",
              "1       2     1707    56        2       6  2016-10-01  PT9M30S         4\n",
              "2       1     2023    25        0       2  2016-07-02  PT2M16S         3\n",
              "3       6   620860   777      161     153  2016-07-27  PT4M22S         8\n",
              "4       1      666     1        0       0  2016-06-29    PT31S         4"
            ]
          },
          "metadata": {
            "tags": []
          },
          "execution_count": 193
        }
      ]
    },
    {
      "cell_type": "code",
      "metadata": {
        "id": "9dY1UbE6kq1h"
      },
      "source": [
        "# Convert values to integers for views, likes, comments, dislikes and adview\n",
        "data_train[\"views\"] = pd.to_numeric(data_train[\"views\"])\n",
        "data_train[\"comment\"] = pd.to_numeric(data_train[\"comment\"])\n",
        "data_train[\"likes\"] = pd.to_numeric(data_train[\"likes\"])\n",
        "data_train[\"dislikes\"] = pd.to_numeric(data_train[\"dislikes\"])\n",
        "data_train[\"adview\"]=pd.to_numeric(data_train[\"adview\"])"
      ],
      "execution_count": 194,
      "outputs": []
    },
    {
      "cell_type": "code",
      "metadata": {
        "id": "dz7X9onKku64"
      },
      "source": [
        "# Endoding features like Category, Duration, Vidid\n",
        "from sklearn.preprocessing import LabelEncoder\n",
        "data_train['duration']=LabelEncoder().fit_transform(data_train['duration'])\n",
        "data_train['published']=LabelEncoder().fit_transform(data_train['published'])"
      ],
      "execution_count": 195,
      "outputs": []
    },
    {
      "cell_type": "code",
      "metadata": {
        "id": "fLK7MklEkyG3",
        "colab": {
          "base_uri": "https://localhost:8080/"
        },
        "outputId": "e6d7802d-e4e1-4224-d649-95ac3f73c811"
      },
      "source": [
        "print(data_train.head())\n",
        "# Convert Time_in_sec for duration\n",
        "import datetime\n",
        "import time"
      ],
      "execution_count": 196,
      "outputs": [
        {
          "output_type": "stream",
          "text": [
            "   adview    views  likes  dislikes  comment  published  duration  category\n",
            "0      40  1031602   8523       363     1095       2168      2925         6\n",
            "1       2     1707     56         2        6       2185      3040         4\n",
            "2       1     2023     25         0        2       2094      1863         3\n",
            "3       6   620860    777       161      153       2119      2546         8\n",
            "4       1      666      1         0        0       2091      1963         4\n"
          ],
          "name": "stdout"
        }
      ]
    },
    {
      "cell_type": "code",
      "metadata": {
        "id": "kgIVmLSqk3Q9"
      },
      "source": [
        "def checki(x):\n",
        "  y = x[2:]\n",
        "  h = ''\n",
        "  m = ''\n",
        "  s = ''\n",
        "  mm = ''\n",
        "  P = ['H','M','S']\n",
        "  for i in y:\n",
        "    if i not in P:\n",
        "      mm+=i\n",
        "    else:\n",
        "      if (i==\"H\"):\n",
        "        h = mm\n",
        "        mm = ''\n",
        "      elif (i == \"M\"):\n",
        "        m = mm\n",
        "        mm = ''\n",
        "      else:\n",
        "        s = mm\n",
        "        mm = ''\n",
        "  if (h==''):\n",
        "    h = '00'\n",
        "  if (m == ''):\n",
        "    m = '00'\n",
        "  if (s==''):\n",
        "    s='00'\n",
        "  bp = h+':'+m+':'+s\n",
        "  return bp\n",
        "train=pd.read_csv(\"train.csv\")\n",
        "mp = pd.read_csv(path + \"train.csv\")[\"duration\"]\n",
        "time = mp.apply(checki)"
      ],
      "execution_count": 197,
      "outputs": []
    },
    {
      "cell_type": "code",
      "metadata": {
        "id": "2WqZsD1WlHMN"
      },
      "source": [
        "def func_sec(time_string):\n",
        "  h, m, s = time_string.split(':')\n",
        "  return int(h) * 3600 + int(m) * 60 + int(s)\n",
        "time1=time.apply(func_sec)"
      ],
      "execution_count": 198,
      "outputs": []
    },
    {
      "cell_type": "code",
      "metadata": {
        "colab": {
          "base_uri": "https://localhost:8080/",
          "height": 206
        },
        "id": "7KsMx0wMmBQL",
        "outputId": "dfa3dea5-428b-42c9-e963-be61c33303ae"
      },
      "source": [
        "data_train[\"duration\"]=time1\n",
        "data_train.head()"
      ],
      "execution_count": 199,
      "outputs": [
        {
          "output_type": "execute_result",
          "data": {
            "text/html": [
              "<div>\n",
              "<style scoped>\n",
              "    .dataframe tbody tr th:only-of-type {\n",
              "        vertical-align: middle;\n",
              "    }\n",
              "\n",
              "    .dataframe tbody tr th {\n",
              "        vertical-align: top;\n",
              "    }\n",
              "\n",
              "    .dataframe thead th {\n",
              "        text-align: right;\n",
              "    }\n",
              "</style>\n",
              "<table border=\"1\" class=\"dataframe\">\n",
              "  <thead>\n",
              "    <tr style=\"text-align: right;\">\n",
              "      <th></th>\n",
              "      <th>adview</th>\n",
              "      <th>views</th>\n",
              "      <th>likes</th>\n",
              "      <th>dislikes</th>\n",
              "      <th>comment</th>\n",
              "      <th>published</th>\n",
              "      <th>duration</th>\n",
              "      <th>category</th>\n",
              "    </tr>\n",
              "  </thead>\n",
              "  <tbody>\n",
              "    <tr>\n",
              "      <th>0</th>\n",
              "      <td>40</td>\n",
              "      <td>1031602</td>\n",
              "      <td>8523</td>\n",
              "      <td>363</td>\n",
              "      <td>1095</td>\n",
              "      <td>2168</td>\n",
              "      <td>457</td>\n",
              "      <td>6</td>\n",
              "    </tr>\n",
              "    <tr>\n",
              "      <th>1</th>\n",
              "      <td>2</td>\n",
              "      <td>1707</td>\n",
              "      <td>56</td>\n",
              "      <td>2</td>\n",
              "      <td>6</td>\n",
              "      <td>2185</td>\n",
              "      <td>570</td>\n",
              "      <td>4</td>\n",
              "    </tr>\n",
              "    <tr>\n",
              "      <th>2</th>\n",
              "      <td>1</td>\n",
              "      <td>2023</td>\n",
              "      <td>25</td>\n",
              "      <td>0</td>\n",
              "      <td>2</td>\n",
              "      <td>2094</td>\n",
              "      <td>136</td>\n",
              "      <td>3</td>\n",
              "    </tr>\n",
              "    <tr>\n",
              "      <th>3</th>\n",
              "      <td>6</td>\n",
              "      <td>620860</td>\n",
              "      <td>777</td>\n",
              "      <td>161</td>\n",
              "      <td>153</td>\n",
              "      <td>2119</td>\n",
              "      <td>262</td>\n",
              "      <td>8</td>\n",
              "    </tr>\n",
              "    <tr>\n",
              "      <th>4</th>\n",
              "      <td>1</td>\n",
              "      <td>666</td>\n",
              "      <td>1</td>\n",
              "      <td>0</td>\n",
              "      <td>0</td>\n",
              "      <td>2091</td>\n",
              "      <td>31</td>\n",
              "      <td>4</td>\n",
              "    </tr>\n",
              "  </tbody>\n",
              "</table>\n",
              "</div>"
            ],
            "text/plain": [
              "   adview    views  likes  dislikes  comment  published  duration  category\n",
              "0      40  1031602   8523       363     1095       2168       457         6\n",
              "1       2     1707     56         2        6       2185       570         4\n",
              "2       1     2023     25         0        2       2094       136         3\n",
              "3       6   620860    777       161      153       2119       262         8\n",
              "4       1      666      1         0        0       2091        31         4"
            ]
          },
          "metadata": {
            "tags": []
          },
          "execution_count": 199
        }
      ]
    },
    {
      "cell_type": "code",
      "metadata": {
        "colab": {
          "base_uri": "https://localhost:8080/"
        },
        "id": "OuzlJYiVmD77",
        "outputId": "a0424a51-b21a-49e7-ea08-8f9401d41027"
      },
      "source": [
        "data_train.info()"
      ],
      "execution_count": 200,
      "outputs": [
        {
          "output_type": "stream",
          "text": [
            "<class 'pandas.core.frame.DataFrame'>\n",
            "Int64Index: 14636 entries, 0 to 14998\n",
            "Data columns (total 8 columns):\n",
            " #   Column     Non-Null Count  Dtype\n",
            "---  ------     --------------  -----\n",
            " 0   adview     14636 non-null  int64\n",
            " 1   views      14636 non-null  int64\n",
            " 2   likes      14636 non-null  int64\n",
            " 3   dislikes   14636 non-null  int64\n",
            " 4   comment    14636 non-null  int64\n",
            " 5   published  14636 non-null  int64\n",
            " 6   duration   14636 non-null  int64\n",
            " 7   category   14636 non-null  int64\n",
            "dtypes: int64(8)\n",
            "memory usage: 1.0 MB\n"
          ],
          "name": "stdout"
        }
      ]
    },
    {
      "cell_type": "code",
      "metadata": {
        "colab": {
          "base_uri": "https://localhost:8080/",
          "height": 294
        },
        "id": "U8h8OwVcfrp6",
        "outputId": "56c4184f-63e5-4d99-f848-13b96d9f1df5"
      },
      "source": [
        "plt.scatter(data_train['category'],data_train['adview'],c='red',marker='*')"
      ],
      "execution_count": 201,
      "outputs": [
        {
          "output_type": "execute_result",
          "data": {
            "text/plain": [
              "<matplotlib.collections.PathCollection at 0x7fdd8d951150>"
            ]
          },
          "metadata": {
            "tags": []
          },
          "execution_count": 201
        },
        {
          "output_type": "display_data",
          "data": {
            "image/png": "[encoded data removed]",
            "text/plain": [
              "<Figure size 432x288 with 1 Axes>"
            ]
          },
          "metadata": {
            "tags": [],
            "needs_background": "light"
          }
        }
      ]
    },
    {
      "cell_type": "code",
      "metadata": {
        "id": "534p_LfhUTdV"
      },
      "source": [
        "x=data_train.iloc[:,1:]\n",
        "y=data_train.iloc[:,0]"
      ],
      "execution_count": 202,
      "outputs": []
    },
    {
      "cell_type": "markdown",
      "metadata": {
        "id": "Ej7evXqHu9Xn"
      },
      "source": [
        "# Splitting data"
      ]
    },
    {
      "cell_type": "code",
      "metadata": {
        "id": "Mc1CZCwJnEYX"
      },
      "source": [
        "\n",
        "from sklearn.model_selection import train_test_split\n",
        "X_train, X_test, y_train, y_test = train_test_split(x,y,test_size=0.2, random_state=42)"
      ],
      "execution_count": 203,
      "outputs": []
    },
    {
      "cell_type": "code",
      "metadata": {
        "colab": {
          "base_uri": "https://localhost:8080/"
        },
        "id": "G_4Jy9w9nM-e",
        "outputId": "aecaa247-956c-4da1-ecc6-2648cbe48d8a"
      },
      "source": [
        "\n",
        "X_train.shape"
      ],
      "execution_count": 204,
      "outputs": [
        {
          "output_type": "execute_result",
          "data": {
            "text/plain": [
              "(11708, 7)"
            ]
          },
          "metadata": {
            "tags": []
          },
          "execution_count": 204
        }
      ]
    },
    {
      "cell_type": "code",
      "metadata": {
        "colab": {
          "base_uri": "https://localhost:8080/",
          "height": 424
        },
        "id": "w4pzF7vCVYr0",
        "outputId": "c1e9cf6e-8e6d-4a1f-b9cc-7abe87bdcedb"
      },
      "source": [
        "X_train"
      ],
      "execution_count": 205,
      "outputs": [
        {
          "output_type": "execute_result",
          "data": {
            "text/html": [
              "<div>\n",
              "<style scoped>\n",
              "    .dataframe tbody tr th:only-of-type {\n",
              "        vertical-align: middle;\n",
              "    }\n",
              "\n",
              "    .dataframe tbody tr th {\n",
              "        vertical-align: top;\n",
              "    }\n",
              "\n",
              "    .dataframe thead th {\n",
              "        text-align: right;\n",
              "    }\n",
              "</style>\n",
              "<table border=\"1\" class=\"dataframe\">\n",
              "  <thead>\n",
              "    <tr style=\"text-align: right;\">\n",
              "      <th></th>\n",
              "      <th>views</th>\n",
              "      <th>likes</th>\n",
              "      <th>dislikes</th>\n",
              "      <th>comment</th>\n",
              "      <th>published</th>\n",
              "      <th>duration</th>\n",
              "      <th>category</th>\n",
              "    </tr>\n",
              "  </thead>\n",
              "  <tbody>\n",
              "    <tr>\n",
              "      <th>13440</th>\n",
              "      <td>86739</td>\n",
              "      <td>117</td>\n",
              "      <td>9</td>\n",
              "      <td>4</td>\n",
              "      <td>1217</td>\n",
              "      <td>180</td>\n",
              "      <td>4</td>\n",
              "    </tr>\n",
              "    <tr>\n",
              "      <th>9523</th>\n",
              "      <td>1419766</td>\n",
              "      <td>887</td>\n",
              "      <td>362</td>\n",
              "      <td>232</td>\n",
              "      <td>1547</td>\n",
              "      <td>5811</td>\n",
              "      <td>7</td>\n",
              "    </tr>\n",
              "    <tr>\n",
              "      <th>3012</th>\n",
              "      <td>26086</td>\n",
              "      <td>19</td>\n",
              "      <td>0</td>\n",
              "      <td>9</td>\n",
              "      <td>966</td>\n",
              "      <td>178</td>\n",
              "      <td>6</td>\n",
              "    </tr>\n",
              "    <tr>\n",
              "      <th>1888</th>\n",
              "      <td>305445</td>\n",
              "      <td>3662</td>\n",
              "      <td>45</td>\n",
              "      <td>555</td>\n",
              "      <td>1484</td>\n",
              "      <td>257</td>\n",
              "      <td>7</td>\n",
              "    </tr>\n",
              "    <tr>\n",
              "      <th>11378</th>\n",
              "      <td>737649</td>\n",
              "      <td>1702</td>\n",
              "      <td>96</td>\n",
              "      <td>53</td>\n",
              "      <td>1127</td>\n",
              "      <td>895</td>\n",
              "      <td>4</td>\n",
              "    </tr>\n",
              "    <tr>\n",
              "      <th>...</th>\n",
              "      <td>...</td>\n",
              "      <td>...</td>\n",
              "      <td>...</td>\n",
              "      <td>...</td>\n",
              "      <td>...</td>\n",
              "      <td>...</td>\n",
              "      <td>...</td>\n",
              "    </tr>\n",
              "    <tr>\n",
              "      <th>5316</th>\n",
              "      <td>31648</td>\n",
              "      <td>140</td>\n",
              "      <td>24</td>\n",
              "      <td>14</td>\n",
              "      <td>1925</td>\n",
              "      <td>231</td>\n",
              "      <td>7</td>\n",
              "    </tr>\n",
              "    <tr>\n",
              "      <th>13748</th>\n",
              "      <td>1804</td>\n",
              "      <td>4</td>\n",
              "      <td>1</td>\n",
              "      <td>0</td>\n",
              "      <td>1049</td>\n",
              "      <td>232</td>\n",
              "      <td>4</td>\n",
              "    </tr>\n",
              "    <tr>\n",
              "      <th>5522</th>\n",
              "      <td>204817</td>\n",
              "      <td>86</td>\n",
              "      <td>35</td>\n",
              "      <td>11</td>\n",
              "      <td>1237</td>\n",
              "      <td>218</td>\n",
              "      <td>4</td>\n",
              "    </tr>\n",
              "    <tr>\n",
              "      <th>883</th>\n",
              "      <td>1361366</td>\n",
              "      <td>1384</td>\n",
              "      <td>757</td>\n",
              "      <td>185</td>\n",
              "      <td>2145</td>\n",
              "      <td>240</td>\n",
              "      <td>7</td>\n",
              "    </tr>\n",
              "    <tr>\n",
              "      <th>7445</th>\n",
              "      <td>39758</td>\n",
              "      <td>122</td>\n",
              "      <td>6</td>\n",
              "      <td>3</td>\n",
              "      <td>224</td>\n",
              "      <td>354</td>\n",
              "      <td>4</td>\n",
              "    </tr>\n",
              "  </tbody>\n",
              "</table>\n",
              "<p>11708 rows × 7 columns</p>\n",
              "</div>"
            ],
            "text/plain": [
              "         views  likes  dislikes  comment  published  duration  category\n",
              "13440    86739    117         9        4       1217       180         4\n",
              "9523   1419766    887       362      232       1547      5811         7\n",
              "3012     26086     19         0        9        966       178         6\n",
              "1888    305445   3662        45      555       1484       257         7\n",
              "11378   737649   1702        96       53       1127       895         4\n",
              "...        ...    ...       ...      ...        ...       ...       ...\n",
              "5316     31648    140        24       14       1925       231         7\n",
              "13748     1804      4         1        0       1049       232         4\n",
              "5522    204817     86        35       11       1237       218         4\n",
              "883    1361366   1384       757      185       2145       240         7\n",
              "7445     39758    122         6        3        224       354         4\n",
              "\n",
              "[11708 rows x 7 columns]"
            ]
          },
          "metadata": {
            "tags": []
          },
          "execution_count": 205
        }
      ]
    },
    {
      "cell_type": "code",
      "metadata": {
        "colab": {
          "base_uri": "https://localhost:8080/"
        },
        "id": "FUz4sKVeWJir",
        "outputId": "f36749da-124c-42f7-e50c-3d8cd5c7c19a"
      },
      "source": [
        "y"
      ],
      "execution_count": 206,
      "outputs": [
        {
          "output_type": "execute_result",
          "data": {
            "text/plain": [
              "0        40\n",
              "1         2\n",
              "2         1\n",
              "3         6\n",
              "4         1\n",
              "         ..\n",
              "14994     2\n",
              "14995     1\n",
              "14996     4\n",
              "14997     1\n",
              "14998     1\n",
              "Name: adview, Length: 14636, dtype: int64"
            ]
          },
          "metadata": {
            "tags": []
          },
          "execution_count": 206
        }
      ]
    },
    {
      "cell_type": "markdown",
      "metadata": {
        "id": "AG9oEKgCvBXD"
      },
      "source": [
        "# normalising data"
      ]
    },
    {
      "cell_type": "code",
      "metadata": {
        "id": "7p53uqY7nS7R"
      },
      "source": [
        "# Normalise Data\n",
        "#from sklearn.preprocessing import MinMaxScaler\n",
        "#scaler = MinMaxScaler()\n",
        "#X_train=scaler.fit_transform(X_train)\n",
        "#X_test=scaler.fit_transform(X_test)"
      ],
      "execution_count": 207,
      "outputs": []
    },
    {
      "cell_type": "markdown",
      "metadata": {
        "id": "RrvV1qdTd3fO"
      },
      "source": [
        "#im not normalising it because when i cross check with ip features i got 58 as the constant ADVIEW\n"
      ]
    },
    {
      "cell_type": "code",
      "metadata": {
        "id": "ypUNqGPXnWBy"
      },
      "source": [
        "#X_train.mean()"
      ],
      "execution_count": 208,
      "outputs": []
    },
    {
      "cell_type": "markdown",
      "metadata": {
        "id": "XCWQfmxUvGkn"
      },
      "source": [
        "# evaluating diff models with diff errors throght the function"
      ]
    },
    {
      "cell_type": "code",
      "metadata": {
        "id": "QkN2PxfpnbU4"
      },
      "source": [
        "# Evaluation Metrics\n",
        "from sklearn import metrics\n",
        "def print_error(X_test, y_test, model_name):\n",
        "  prediction = model_name.predict(X_test)\n",
        "  print('Mean Absolute Error:', metrics.mean_absolute_error(y_test, prediction))\n",
        "  print('Mean Squared Error:', metrics.mean_squared_error(y_test, prediction))\n",
        "  print('Root Mean Squared Error:', np.sqrt(metrics.mean_squared_error(y_test, prediction)))"
      ],
      "execution_count": 209,
      "outputs": []
    },
    {
      "cell_type": "markdown",
      "metadata": {
        "id": "5YmTRq_RvOsB"
      },
      "source": [
        "# Linear Regression"
      ]
    },
    {
      "cell_type": "code",
      "metadata": {
        "colab": {
          "base_uri": "https://localhost:8080/"
        },
        "id": "4tP26vpheTtZ",
        "outputId": "710fd501-793a-4f24-dd88-9f005506333e"
      },
      "source": [
        "X_train.info()"
      ],
      "execution_count": 210,
      "outputs": [
        {
          "output_type": "stream",
          "text": [
            "<class 'pandas.core.frame.DataFrame'>\n",
            "Int64Index: 11708 entries, 13440 to 7445\n",
            "Data columns (total 7 columns):\n",
            " #   Column     Non-Null Count  Dtype\n",
            "---  ------     --------------  -----\n",
            " 0   views      11708 non-null  int64\n",
            " 1   likes      11708 non-null  int64\n",
            " 2   dislikes   11708 non-null  int64\n",
            " 3   comment    11708 non-null  int64\n",
            " 4   published  11708 non-null  int64\n",
            " 5   duration   11708 non-null  int64\n",
            " 6   category   11708 non-null  int64\n",
            "dtypes: int64(7)\n",
            "memory usage: 731.8 KB\n"
          ],
          "name": "stdout"
        }
      ]
    },
    {
      "cell_type": "code",
      "metadata": {
        "colab": {
          "base_uri": "https://localhost:8080/"
        },
        "id": "GEzmlDZupgzf",
        "outputId": "8c860939-bb82-44ae-8225-2128c831df97"
      },
      "source": [
        "# Linear Regression\n",
        "from sklearn.linear_model import LinearRegression\n",
        "linear_regression = LinearRegression()\n",
        "linear_regression.fit(X_train, y_train)\n",
        "print_error(X_test,y_test, linear_regression)"
      ],
      "execution_count": 211,
      "outputs": [
        {
          "output_type": "stream",
          "text": [
            "Mean Absolute Error: 3555.8238945996677\n",
            "Mean Squared Error: 831728534.4570614\n",
            "Root Mean Squared Error: 28839.70413262004\n"
          ],
          "name": "stdout"
        }
      ]
    },
    {
      "cell_type": "markdown",
      "metadata": {
        "id": "tMnmrmYsvTm4"
      },
      "source": [
        "# Support Vector Regressor\n"
      ]
    },
    {
      "cell_type": "code",
      "metadata": {
        "colab": {
          "base_uri": "https://localhost:8080/"
        },
        "id": "fCCQGB02pknA",
        "outputId": "5ca4232b-24da-430e-f8ce-46d821ce8ff5"
      },
      "source": [
        "# Support Vector Regressor\n",
        "from sklearn.svm import SVR\n",
        "supportvector_regressor = SVR()\n",
        "supportvector_regressor.fit(X_train,y_train)\n",
        "print_error(X_test,y_test, linear_regression)"
      ],
      "execution_count": 212,
      "outputs": [
        {
          "output_type": "stream",
          "text": [
            "Mean Absolute Error: 3555.8238945996677\n",
            "Mean Squared Error: 831728534.4570614\n",
            "Root Mean Squared Error: 28839.70413262004\n"
          ],
          "name": "stdout"
        }
      ]
    },
    {
      "cell_type": "markdown",
      "metadata": {
        "id": "i6mAA4oHvWkJ"
      },
      "source": [
        "# Decision Tree Regressor"
      ]
    },
    {
      "cell_type": "code",
      "metadata": {
        "colab": {
          "base_uri": "https://localhost:8080/"
        },
        "id": "VojghPc0poVu",
        "outputId": "7709cd72-452b-4a75-c1c1-3d8778837506"
      },
      "source": [
        "\n",
        "from sklearn.tree import DecisionTreeRegressor\n",
        "decision_tree = DecisionTreeRegressor()\n",
        "decision_tree.fit(X_train, y_train)\n",
        "print_error(X_test,y_test, decision_tree)"
      ],
      "execution_count": 213,
      "outputs": [
        {
          "output_type": "stream",
          "text": [
            "Mean Absolute Error: 2703.9849726775956\n",
            "Mean Squared Error: 1492456913.9822404\n",
            "Root Mean Squared Error: 38632.32990620991\n"
          ],
          "name": "stdout"
        }
      ]
    },
    {
      "cell_type": "markdown",
      "metadata": {
        "id": "khZnkYosva-F"
      },
      "source": [
        "\n",
        "# Random Forest Regressor"
      ]
    },
    {
      "cell_type": "code",
      "metadata": {
        "colab": {
          "base_uri": "https://localhost:8080/"
        },
        "id": "Vzx_LJwgpwRF",
        "outputId": "86e5226c-4f1d-4e7c-dabb-dfc177a1a548"
      },
      "source": [
        "from sklearn.ensemble import RandomForestRegressor\n",
        "n_estimators = 200\n",
        "max_depth = 25\n",
        "min_samples_split=15\n",
        "min_samples_leaf=2\n",
        "random_forest = RandomForestRegressor(n_estimators = n_estimators, max_depth = max_depth, min_samples_split=min_samples_split,min_samples_leaf=min_samples_leaf)\n",
        "random_forest.fit(X_train, y_train)\n",
        "print_error(X_test,y_test, random_forest)"
      ],
      "execution_count": 214,
      "outputs": [
        {
          "output_type": "stream",
          "text": [
            "Mean Absolute Error: 2914.824551741969\n",
            "Mean Squared Error: 663152720.6388097\n",
            "Root Mean Squared Error: 25751.751797476027\n"
          ],
          "name": "stdout"
        }
      ]
    },
    {
      "cell_type": "markdown",
      "metadata": {
        "id": "FglqOyjivevg"
      },
      "source": [
        "# Artificial Neural Network"
      ]
    },
    {
      "cell_type": "code",
      "metadata": {
        "id": "_92F-ddYpz6Q"
      },
      "source": [
        "import keras\n",
        "from keras.layers import Dense\n",
        "ann = keras.models.Sequential([\n",
        "Dense(6, activation=\"relu\",\n",
        "input_shape=X_train.shape[1:]),\n",
        "Dense(6,activation=\"relu\"),\n",
        "Dense(1)\n",
        "])\n",
        "optimizer=keras.optimizers.Adam()\n",
        "loss=keras.losses.mean_squared_error\n",
        "ann.compile(optimizer=optimizer,loss=loss,metrics=[\"mean_squared_error\"])"
      ],
      "execution_count": 215,
      "outputs": []
    },
    {
      "cell_type": "code",
      "metadata": {
        "colab": {
          "base_uri": "https://localhost:8080/"
        },
        "id": "WRVYv5tBuoMt",
        "outputId": "4060c04d-e32d-4562-b011-e10f23fa6305"
      },
      "source": [
        "history=ann.fit(X_train,y_train,epochs=100)\n",
        "ann.summary()\n",
        "print_error(X_test,y_test,ann)"
      ],
      "execution_count": 216,
      "outputs": [
        {
          "output_type": "stream",
          "text": [
            "Epoch 1/100\n",
            "366/366 [==============================] - 1s 1ms/step - loss: 26822807362.2670 - mean_squared_error: 26822807362.2670\n",
            "Epoch 2/100\n",
            "366/366 [==============================] - 0s 1ms/step - loss: 757104382.4394 - mean_squared_error: 757104382.4394\n",
            "Epoch 3/100\n",
            "366/366 [==============================] - 0s 1ms/step - loss: 711502852.8283 - mean_squared_error: 711502852.8283\n",
            "Epoch 4/100\n",
            "366/366 [==============================] - 0s 1ms/step - loss: 900960459.1849 - mean_squared_error: 900960459.1849\n",
            "Epoch 5/100\n",
            "366/366 [==============================] - 1s 1ms/step - loss: 485761192.5913 - mean_squared_error: 485761192.5913\n",
            "Epoch 6/100\n",
            "366/366 [==============================] - 1s 1ms/step - loss: 812284308.8420 - mean_squared_error: 812284308.8420\n",
            "Epoch 7/100\n",
            "366/366 [==============================] - 0s 1ms/step - loss: 544489001.5591 - mean_squared_error: 544489001.5591\n",
            "Epoch 8/100\n",
            "366/366 [==============================] - 0s 1ms/step - loss: 385718972.7902 - mean_squared_error: 385718972.7902\n",
            "Epoch 9/100\n",
            "366/366 [==============================] - 0s 1ms/step - loss: 1344665409.5041 - mean_squared_error: 1344665409.5041\n",
            "Epoch 10/100\n",
            "366/366 [==============================] - 0s 1ms/step - loss: 778003761.3678 - mean_squared_error: 778003761.3678\n",
            "Epoch 11/100\n",
            "366/366 [==============================] - 0s 1ms/step - loss: 926025475.5640 - mean_squared_error: 926025475.5640\n",
            "Epoch 12/100\n",
            "366/366 [==============================] - 0s 1ms/step - loss: 569255515.8801 - mean_squared_error: 569255515.8801\n",
            "Epoch 13/100\n",
            "366/366 [==============================] - 0s 1ms/step - loss: 768619550.2711 - mean_squared_error: 768619550.2711\n",
            "Epoch 14/100\n",
            "366/366 [==============================] - 0s 1ms/step - loss: 850687517.6996 - mean_squared_error: 850687517.6996\n",
            "Epoch 15/100\n",
            "366/366 [==============================] - 0s 1ms/step - loss: 1264069002.8283 - mean_squared_error: 1264069002.8283\n",
            "Epoch 16/100\n",
            "366/366 [==============================] - 1s 1ms/step - loss: 620482947.0933 - mean_squared_error: 620482947.0933\n",
            "Epoch 17/100\n",
            "366/366 [==============================] - 0s 1ms/step - loss: 566066825.4114 - mean_squared_error: 566066825.4114\n",
            "Epoch 18/100\n",
            "366/366 [==============================] - 0s 1ms/step - loss: 700132937.1151 - mean_squared_error: 700132937.1151\n",
            "Epoch 19/100\n",
            "366/366 [==============================] - 0s 1ms/step - loss: 819759606.8706 - mean_squared_error: 819759606.8706\n",
            "Epoch 20/100\n",
            "366/366 [==============================] - 0s 1ms/step - loss: 576661828.6213 - mean_squared_error: 576661828.6213\n",
            "Epoch 21/100\n",
            "366/366 [==============================] - 1s 1ms/step - loss: 1104876862.8883 - mean_squared_error: 1104876862.8883\n",
            "Epoch 22/100\n",
            "366/366 [==============================] - 0s 1ms/step - loss: 837538997.5848 - mean_squared_error: 837538997.5848\n",
            "Epoch 23/100\n",
            "366/366 [==============================] - 0s 1ms/step - loss: 538334833.4714 - mean_squared_error: 538334833.4714\n",
            "Epoch 24/100\n",
            "366/366 [==============================] - 0s 1ms/step - loss: 760016130.9237 - mean_squared_error: 760016130.9237\n",
            "Epoch 25/100\n",
            "366/366 [==============================] - 0s 1ms/step - loss: 424237609.1989 - mean_squared_error: 424237609.1989\n",
            "Epoch 26/100\n",
            "366/366 [==============================] - 1s 1ms/step - loss: 336862439.1117 - mean_squared_error: 336862439.1117\n",
            "Epoch 27/100\n",
            "366/366 [==============================] - 0s 1ms/step - loss: 1225403446.8665 - mean_squared_error: 1225403446.8665\n",
            "Epoch 28/100\n",
            "366/366 [==============================] - 0s 1ms/step - loss: 726727981.8529 - mean_squared_error: 726727981.8529\n",
            "Epoch 29/100\n",
            "366/366 [==============================] - 0s 1ms/step - loss: 678094177.7098 - mean_squared_error: 678094177.7098\n",
            "Epoch 30/100\n",
            "366/366 [==============================] - 0s 1ms/step - loss: 559899531.0497 - mean_squared_error: 559899531.0497\n",
            "Epoch 31/100\n",
            "366/366 [==============================] - 0s 1ms/step - loss: 941077383.4550 - mean_squared_error: 941077383.4550\n",
            "Epoch 32/100\n",
            "366/366 [==============================] - 0s 1ms/step - loss: 824419966.7357 - mean_squared_error: 824419966.7357\n",
            "Epoch 33/100\n",
            "366/366 [==============================] - 0s 1ms/step - loss: 957189715.5640 - mean_squared_error: 957189715.5640\n",
            "Epoch 34/100\n",
            "366/366 [==============================] - 0s 1ms/step - loss: 480483239.4768 - mean_squared_error: 480483239.4768\n",
            "Epoch 35/100\n",
            "366/366 [==============================] - 0s 1ms/step - loss: 716218537.2398 - mean_squared_error: 716218537.2398\n",
            "Epoch 36/100\n",
            "366/366 [==============================] - 0s 1ms/step - loss: 720982227.1771 - mean_squared_error: 720982227.1771\n",
            "Epoch 37/100\n",
            "366/366 [==============================] - 0s 1ms/step - loss: 610907959.6294 - mean_squared_error: 610907959.6294\n",
            "Epoch 38/100\n",
            "366/366 [==============================] - 0s 1ms/step - loss: 879617455.9782 - mean_squared_error: 879617455.9782\n",
            "Epoch 39/100\n",
            "366/366 [==============================] - 0s 1ms/step - loss: 723972585.4292 - mean_squared_error: 723972585.4292\n",
            "Epoch 40/100\n",
            "366/366 [==============================] - 0s 1ms/step - loss: 1911724703.9837 - mean_squared_error: 1911724703.9837\n",
            "Epoch 41/100\n",
            "366/366 [==============================] - 0s 1ms/step - loss: 432575842.0381 - mean_squared_error: 432575842.0381\n",
            "Epoch 42/100\n",
            "366/366 [==============================] - 0s 1ms/step - loss: 1001550477.5913 - mean_squared_error: 1001550477.5913\n",
            "Epoch 43/100\n",
            "366/366 [==============================] - 0s 1ms/step - loss: 2395220053.8011 - mean_squared_error: 2395220053.8011\n",
            "Epoch 44/100\n",
            "366/366 [==============================] - 0s 1ms/step - loss: 518910111.8709 - mean_squared_error: 518910111.8709\n",
            "Epoch 45/100\n",
            "366/366 [==============================] - 0s 1ms/step - loss: 290819402.0988 - mean_squared_error: 290819402.0988\n",
            "Epoch 46/100\n",
            "366/366 [==============================] - 0s 1ms/step - loss: 674371016.1962 - mean_squared_error: 674371016.1962\n",
            "Epoch 47/100\n",
            "366/366 [==============================] - 0s 1ms/step - loss: 795854093.3743 - mean_squared_error: 795854093.3743\n",
            "Epoch 48/100\n",
            "366/366 [==============================] - 0s 1ms/step - loss: 656789207.6703 - mean_squared_error: 656789207.6703\n",
            "Epoch 49/100\n",
            "366/366 [==============================] - 0s 1ms/step - loss: 971259711.4550 - mean_squared_error: 971259711.4550\n",
            "Epoch 50/100\n",
            "366/366 [==============================] - 0s 1ms/step - loss: 701931051.8740 - mean_squared_error: 701931051.8740\n",
            "Epoch 51/100\n",
            "366/366 [==============================] - 0s 1ms/step - loss: 865301662.0330 - mean_squared_error: 865301662.0330\n",
            "Epoch 52/100\n",
            "366/366 [==============================] - 0s 1ms/step - loss: 622277363.1461 - mean_squared_error: 622277363.1461\n",
            "Epoch 53/100\n",
            "366/366 [==============================] - 0s 1ms/step - loss: 409919139.4005 - mean_squared_error: 409919139.4005\n",
            "Epoch 54/100\n",
            "366/366 [==============================] - 0s 1ms/step - loss: 456979129.3243 - mean_squared_error: 456979129.3243\n",
            "Epoch 55/100\n",
            "366/366 [==============================] - 0s 1ms/step - loss: 828049706.8120 - mean_squared_error: 828049706.8120\n",
            "Epoch 56/100\n",
            "366/366 [==============================] - 0s 1ms/step - loss: 906218893.2599 - mean_squared_error: 906218893.2599\n",
            "Epoch 57/100\n",
            "366/366 [==============================] - 0s 1ms/step - loss: 225753701.8828 - mean_squared_error: 225753701.8828\n",
            "Epoch 58/100\n",
            "366/366 [==============================] - 0s 1ms/step - loss: 848679133.2725 - mean_squared_error: 848679133.2725\n",
            "Epoch 59/100\n",
            "366/366 [==============================] - 0s 1ms/step - loss: 697293320.0463 - mean_squared_error: 697293320.0463\n",
            "Epoch 60/100\n",
            "366/366 [==============================] - 0s 1ms/step - loss: 1254138241.5715 - mean_squared_error: 1254138241.5715\n",
            "Epoch 61/100\n",
            "366/366 [==============================] - 0s 1ms/step - loss: 514441782.3978 - mean_squared_error: 514441782.3978\n",
            "Epoch 62/100\n",
            "366/366 [==============================] - 0s 1ms/step - loss: 519540875.9891 - mean_squared_error: 519540875.9891\n",
            "Epoch 63/100\n",
            "366/366 [==============================] - 0s 1ms/step - loss: 532887337.5477 - mean_squared_error: 532887337.5477\n",
            "Epoch 64/100\n",
            "366/366 [==============================] - 0s 1ms/step - loss: 319658566.0501 - mean_squared_error: 319658566.0501\n",
            "Epoch 65/100\n",
            "366/366 [==============================] - 0s 1ms/step - loss: 827295776.2616 - mean_squared_error: 827295776.2616\n",
            "Epoch 66/100\n",
            "366/366 [==============================] - 0s 1ms/step - loss: 671747909.2861 - mean_squared_error: 671747909.2861\n",
            "Epoch 67/100\n",
            "366/366 [==============================] - 1s 1ms/step - loss: 555496934.1907 - mean_squared_error: 555496934.1907\n",
            "Epoch 68/100\n",
            "366/366 [==============================] - 0s 1ms/step - loss: 508259345.5330 - mean_squared_error: 508259345.5330\n",
            "Epoch 69/100\n",
            "366/366 [==============================] - 0s 1ms/step - loss: 519981988.3781 - mean_squared_error: 519981988.3781\n",
            "Epoch 70/100\n",
            "366/366 [==============================] - 0s 1ms/step - loss: 598059214.9189 - mean_squared_error: 598059214.9189\n",
            "Epoch 71/100\n",
            "366/366 [==============================] - 0s 1ms/step - loss: 968951075.9360 - mean_squared_error: 968951075.9360\n",
            "Epoch 72/100\n",
            "366/366 [==============================] - 1s 1ms/step - loss: 720937957.1897 - mean_squared_error: 720937957.1897\n",
            "Epoch 73/100\n",
            "366/366 [==============================] - 0s 1ms/step - loss: 1294785677.8638 - mean_squared_error: 1294785677.8638\n",
            "Epoch 74/100\n",
            "366/366 [==============================] - 0s 1ms/step - loss: 316800055.0538 - mean_squared_error: 316800055.0538\n",
            "Epoch 75/100\n",
            "366/366 [==============================] - 0s 1ms/step - loss: 1376231141.1989 - mean_squared_error: 1376231141.1989\n",
            "Epoch 76/100\n",
            "366/366 [==============================] - 0s 1ms/step - loss: 910918023.8038 - mean_squared_error: 910918023.8038\n",
            "Epoch 77/100\n",
            "366/366 [==============================] - 0s 1ms/step - loss: 560746615.6185 - mean_squared_error: 560746615.6185\n",
            "Epoch 78/100\n",
            "366/366 [==============================] - 1s 1ms/step - loss: 555646671.2153 - mean_squared_error: 555646671.2153\n",
            "Epoch 79/100\n",
            "366/366 [==============================] - 0s 1ms/step - loss: 474217754.3324 - mean_squared_error: 474217754.3324\n",
            "Epoch 80/100\n",
            "366/366 [==============================] - 1s 1ms/step - loss: 909010477.0191 - mean_squared_error: 909010477.0191\n",
            "Epoch 81/100\n",
            "366/366 [==============================] - 0s 1ms/step - loss: 844989340.0327 - mean_squared_error: 844989340.0327\n",
            "Epoch 82/100\n",
            "366/366 [==============================] - 1s 1ms/step - loss: 686897745.5938 - mean_squared_error: 686897745.5938\n",
            "Epoch 83/100\n",
            "366/366 [==============================] - 0s 1ms/step - loss: 897812980.0089 - mean_squared_error: 897812980.0089\n",
            "Epoch 84/100\n",
            "366/366 [==============================] - 0s 1ms/step - loss: 1279614783.8692 - mean_squared_error: 1279614783.8692\n",
            "Epoch 85/100\n",
            "366/366 [==============================] - 0s 1ms/step - loss: 842358033.4453 - mean_squared_error: 842358033.4453\n",
            "Epoch 86/100\n",
            "366/366 [==============================] - 0s 1ms/step - loss: 732157132.2868 - mean_squared_error: 732157132.2868\n",
            "Epoch 87/100\n",
            "366/366 [==============================] - 0s 1ms/step - loss: 671277975.7711 - mean_squared_error: 671277975.7711\n",
            "Epoch 88/100\n",
            "366/366 [==============================] - 0s 1ms/step - loss: 429944602.9646 - mean_squared_error: 429944602.9646\n",
            "Epoch 89/100\n",
            "366/366 [==============================] - 1s 1ms/step - loss: 497671413.8474 - mean_squared_error: 497671413.8474\n",
            "Epoch 90/100\n",
            "366/366 [==============================] - 1s 1ms/step - loss: 645179424.8426 - mean_squared_error: 645179424.8426\n",
            "Epoch 91/100\n",
            "366/366 [==============================] - 0s 1ms/step - loss: 855991944.2398 - mean_squared_error: 855991944.2398\n",
            "Epoch 92/100\n",
            "366/366 [==============================] - 1s 1ms/step - loss: 431488982.8447 - mean_squared_error: 431488982.8447\n",
            "Epoch 93/100\n",
            "366/366 [==============================] - 0s 1ms/step - loss: 633571780.9932 - mean_squared_error: 633571780.9932\n",
            "Epoch 94/100\n",
            "366/366 [==============================] - 0s 1ms/step - loss: 1208956199.2405 - mean_squared_error: 1208956199.2405\n",
            "Epoch 95/100\n",
            "366/366 [==============================] - 0s 1ms/step - loss: 638315853.9414 - mean_squared_error: 638315853.9414\n",
            "Epoch 96/100\n",
            "366/366 [==============================] - 0s 1ms/step - loss: 890784326.4741 - mean_squared_error: 890784326.4741\n",
            "Epoch 97/100\n",
            "366/366 [==============================] - 0s 1ms/step - loss: 512734506.3869 - mean_squared_error: 512734506.3869\n",
            "Epoch 98/100\n",
            "366/366 [==============================] - 0s 1ms/step - loss: 355435752.6267 - mean_squared_error: 355435752.6267\n",
            "Epoch 99/100\n",
            "366/366 [==============================] - 0s 1ms/step - loss: 450984858.6512 - mean_squared_error: 450984858.6512\n",
            "Epoch 100/100\n",
            "366/366 [==============================] - 1s 1ms/step - loss: 386373231.1199 - mean_squared_error: 386373231.1199\n",
            "Model: \"sequential_3\"\n",
            "_________________________________________________________________\n",
            "Layer (type)                 Output Shape              Param #   \n",
            "=================================================================\n",
            "dense_9 (Dense)              (None, 6)                 48        \n",
            "_________________________________________________________________\n",
            "dense_10 (Dense)             (None, 6)                 42        \n",
            "_________________________________________________________________\n",
            "dense_11 (Dense)             (None, 1)                 7         \n",
            "=================================================================\n",
            "Total params: 97\n",
            "Trainable params: 97\n",
            "Non-trainable params: 0\n",
            "_________________________________________________________________\n",
            "Mean Absolute Error: 7155.299934967864\n",
            "Mean Squared Error: 1514815899.3004134\n",
            "Root Mean Squared Error: 38920.6359056531\n"
          ],
          "name": "stdout"
        }
      ]
    },
    {
      "cell_type": "code",
      "metadata": {
        "id": "oZnbHVseUUZI"
      },
      "source": [
        "m=decision_tree.predict([[1031602,8523,363,1095,2168,2925,6]])"
      ],
      "execution_count": 217,
      "outputs": []
    },
    {
      "cell_type": "code",
      "metadata": {
        "colab": {
          "base_uri": "https://localhost:8080/"
        },
        "id": "JfZu3xyVUZfP",
        "outputId": "fe85a9ba-7b8f-4e20-d2ca-63ca106c5959"
      },
      "source": [
        "m"
      ],
      "execution_count": 218,
      "outputs": [
        {
          "output_type": "execute_result",
          "data": {
            "text/plain": [
              "array([40.])"
            ]
          },
          "metadata": {
            "tags": []
          },
          "execution_count": 218
        }
      ]
    },
    {
      "cell_type": "markdown",
      "metadata": {
        "id": "WRWuPRULvlyQ"
      },
      "source": [
        "#Saving Scikitlearn models"
      ]
    },
    {
      "cell_type": "code",
      "metadata": {
        "id": "0157iXexusSZ",
        "colab": {
          "base_uri": "https://localhost:8080/"
        },
        "outputId": "1a5d643b-b508-4c9f-8bff-f21953f435f4"
      },
      "source": [
        "import joblib\n",
        "joblib.dump(decision_tree, \"decisiontree_youtubeadview.pkl\")"
      ],
      "execution_count": 219,
      "outputs": [
        {
          "output_type": "execute_result",
          "data": {
            "text/plain": [
              "['decisiontree_youtubeadview.pkl']"
            ]
          },
          "metadata": {
            "tags": []
          },
          "execution_count": 219
        }
      ]
    },
    {
      "cell_type": "markdown",
      "metadata": {
        "id": "8gSGRbQavken"
      },
      "source": [
        "# Saving Keras Artificial Neural Network model"
      ]
    },
    {
      "cell_type": "code",
      "metadata": {
        "id": "2auiPnIYvIMO"
      },
      "source": [
        "ann.save(\"ann_youtubeadview.h5\")"
      ],
      "execution_count": 220,
      "outputs": []
    },
    {
      "cell_type": "markdown",
      "metadata": {
        "id": "Be90SGWZwflG"
      },
      "source": [
        "# test model with test data"
      ]
    },
    {
      "cell_type": "code",
      "metadata": {
        "id": "uGk3sVKVwjqR"
      },
      "source": [
        "test_data=pd.read_csv('test.csv')"
      ],
      "execution_count": 221,
      "outputs": []
    },
    {
      "cell_type": "code",
      "metadata": {
        "colab": {
          "base_uri": "https://localhost:8080/",
          "height": 206
        },
        "id": "IVAcZPWewr10",
        "outputId": "86bb5f26-ff7d-43cd-e3df-a5215d6c05ac"
      },
      "source": [
        "test_data.head()"
      ],
      "execution_count": 222,
      "outputs": [
        {
          "output_type": "execute_result",
          "data": {
            "text/html": [
              "<div>\n",
              "<style scoped>\n",
              "    .dataframe tbody tr th:only-of-type {\n",
              "        vertical-align: middle;\n",
              "    }\n",
              "\n",
              "    .dataframe tbody tr th {\n",
              "        vertical-align: top;\n",
              "    }\n",
              "\n",
              "    .dataframe thead th {\n",
              "        text-align: right;\n",
              "    }\n",
              "</style>\n",
              "<table border=\"1\" class=\"dataframe\">\n",
              "  <thead>\n",
              "    <tr style=\"text-align: right;\">\n",
              "      <th></th>\n",
              "      <th>vidid</th>\n",
              "      <th>views</th>\n",
              "      <th>likes</th>\n",
              "      <th>dislikes</th>\n",
              "      <th>comment</th>\n",
              "      <th>published</th>\n",
              "      <th>duration</th>\n",
              "      <th>category</th>\n",
              "    </tr>\n",
              "  </thead>\n",
              "  <tbody>\n",
              "    <tr>\n",
              "      <th>0</th>\n",
              "      <td>VID_1054</td>\n",
              "      <td>440238</td>\n",
              "      <td>6153</td>\n",
              "      <td>218</td>\n",
              "      <td>1377</td>\n",
              "      <td>2017-02-18</td>\n",
              "      <td>PT7M29S</td>\n",
              "      <td>B</td>\n",
              "    </tr>\n",
              "    <tr>\n",
              "      <th>1</th>\n",
              "      <td>VID_18629</td>\n",
              "      <td>1040132</td>\n",
              "      <td>8171</td>\n",
              "      <td>340</td>\n",
              "      <td>1047</td>\n",
              "      <td>2016-06-28</td>\n",
              "      <td>PT6M29S</td>\n",
              "      <td>F</td>\n",
              "    </tr>\n",
              "    <tr>\n",
              "      <th>2</th>\n",
              "      <td>VID_13967</td>\n",
              "      <td>28534</td>\n",
              "      <td>31</td>\n",
              "      <td>11</td>\n",
              "      <td>1</td>\n",
              "      <td>2014-03-10</td>\n",
              "      <td>PT37M54S</td>\n",
              "      <td>D</td>\n",
              "    </tr>\n",
              "    <tr>\n",
              "      <th>3</th>\n",
              "      <td>VID_19442</td>\n",
              "      <td>1316715</td>\n",
              "      <td>2284</td>\n",
              "      <td>250</td>\n",
              "      <td>274</td>\n",
              "      <td>2010-06-05</td>\n",
              "      <td>PT9M55S</td>\n",
              "      <td>G</td>\n",
              "    </tr>\n",
              "    <tr>\n",
              "      <th>4</th>\n",
              "      <td>VID_770</td>\n",
              "      <td>1893173</td>\n",
              "      <td>2519</td>\n",
              "      <td>225</td>\n",
              "      <td>116</td>\n",
              "      <td>2016-09-03</td>\n",
              "      <td>PT3M8S</td>\n",
              "      <td>B</td>\n",
              "    </tr>\n",
              "  </tbody>\n",
              "</table>\n",
              "</div>"
            ],
            "text/plain": [
              "       vidid    views likes dislikes comment   published  duration category\n",
              "0   VID_1054   440238  6153      218    1377  2017-02-18   PT7M29S        B\n",
              "1  VID_18629  1040132  8171      340    1047  2016-06-28   PT6M29S        F\n",
              "2  VID_13967    28534    31       11       1  2014-03-10  PT37M54S        D\n",
              "3  VID_19442  1316715  2284      250     274  2010-06-05   PT9M55S        G\n",
              "4    VID_770  1893173  2519      225     116  2016-09-03    PT3M8S        B"
            ]
          },
          "metadata": {
            "tags": []
          },
          "execution_count": 222
        }
      ]
    },
    {
      "cell_type": "code",
      "metadata": {
        "colab": {
          "base_uri": "https://localhost:8080/",
          "height": 265
        },
        "id": "YLqmARa8wuko",
        "outputId": "665d8ded-c9cc-4caf-c9bc-5e425541fdef"
      },
      "source": [
        "plt.hist(test_data[\"published\"])\n",
        "plt.show()\n"
      ],
      "execution_count": 223,
      "outputs": [
        {
          "output_type": "display_data",
          "data": {
            "image/png": "[encoded data removed]",
            "text/plain": [
              "<Figure size 432x288 with 1 Axes>"
            ]
          },
          "metadata": {
            "tags": [],
            "needs_background": "light"
          }
        }
      ]
    },
    {
      "cell_type": "code",
      "metadata": {
        "colab": {
          "base_uri": "https://localhost:8080/",
          "height": 206
        },
        "id": "pteiKgBizarv",
        "outputId": "3e8768be-2979-4e36-fe74-04fe0c145241"
      },
      "source": [
        "test_data.head()"
      ],
      "execution_count": 224,
      "outputs": [
        {
          "output_type": "execute_result",
          "data": {
            "text/html": [
              "<div>\n",
              "<style scoped>\n",
              "    .dataframe tbody tr th:only-of-type {\n",
              "        vertical-align: middle;\n",
              "    }\n",
              "\n",
              "    .dataframe tbody tr th {\n",
              "        vertical-align: top;\n",
              "    }\n",
              "\n",
              "    .dataframe thead th {\n",
              "        text-align: right;\n",
              "    }\n",
              "</style>\n",
              "<table border=\"1\" class=\"dataframe\">\n",
              "  <thead>\n",
              "    <tr style=\"text-align: right;\">\n",
              "      <th></th>\n",
              "      <th>vidid</th>\n",
              "      <th>views</th>\n",
              "      <th>likes</th>\n",
              "      <th>dislikes</th>\n",
              "      <th>comment</th>\n",
              "      <th>published</th>\n",
              "      <th>duration</th>\n",
              "      <th>category</th>\n",
              "    </tr>\n",
              "  </thead>\n",
              "  <tbody>\n",
              "    <tr>\n",
              "      <th>0</th>\n",
              "      <td>VID_1054</td>\n",
              "      <td>440238</td>\n",
              "      <td>6153</td>\n",
              "      <td>218</td>\n",
              "      <td>1377</td>\n",
              "      <td>2017-02-18</td>\n",
              "      <td>PT7M29S</td>\n",
              "      <td>B</td>\n",
              "    </tr>\n",
              "    <tr>\n",
              "      <th>1</th>\n",
              "      <td>VID_18629</td>\n",
              "      <td>1040132</td>\n",
              "      <td>8171</td>\n",
              "      <td>340</td>\n",
              "      <td>1047</td>\n",
              "      <td>2016-06-28</td>\n",
              "      <td>PT6M29S</td>\n",
              "      <td>F</td>\n",
              "    </tr>\n",
              "    <tr>\n",
              "      <th>2</th>\n",
              "      <td>VID_13967</td>\n",
              "      <td>28534</td>\n",
              "      <td>31</td>\n",
              "      <td>11</td>\n",
              "      <td>1</td>\n",
              "      <td>2014-03-10</td>\n",
              "      <td>PT37M54S</td>\n",
              "      <td>D</td>\n",
              "    </tr>\n",
              "    <tr>\n",
              "      <th>3</th>\n",
              "      <td>VID_19442</td>\n",
              "      <td>1316715</td>\n",
              "      <td>2284</td>\n",
              "      <td>250</td>\n",
              "      <td>274</td>\n",
              "      <td>2010-06-05</td>\n",
              "      <td>PT9M55S</td>\n",
              "      <td>G</td>\n",
              "    </tr>\n",
              "    <tr>\n",
              "      <th>4</th>\n",
              "      <td>VID_770</td>\n",
              "      <td>1893173</td>\n",
              "      <td>2519</td>\n",
              "      <td>225</td>\n",
              "      <td>116</td>\n",
              "      <td>2016-09-03</td>\n",
              "      <td>PT3M8S</td>\n",
              "      <td>B</td>\n",
              "    </tr>\n",
              "  </tbody>\n",
              "</table>\n",
              "</div>"
            ],
            "text/plain": [
              "       vidid    views likes dislikes comment   published  duration category\n",
              "0   VID_1054   440238  6153      218    1377  2017-02-18   PT7M29S        B\n",
              "1  VID_18629  1040132  8171      340    1047  2016-06-28   PT6M29S        F\n",
              "2  VID_13967    28534    31       11       1  2014-03-10  PT37M54S        D\n",
              "3  VID_19442  1316715  2284      250     274  2010-06-05   PT9M55S        G\n",
              "4    VID_770  1893173  2519      225     116  2016-09-03    PT3M8S        B"
            ]
          },
          "metadata": {
            "tags": []
          },
          "execution_count": 224
        }
      ]
    },
    {
      "cell_type": "code",
      "metadata": {
        "colab": {
          "base_uri": "https://localhost:8080/"
        },
        "id": "pU7iXKh72BW4",
        "outputId": "c4afa901-85b2-4661-b25a-cfb1de4f0b95"
      },
      "source": [
        "test_data.shape"
      ],
      "execution_count": 225,
      "outputs": [
        {
          "output_type": "execute_result",
          "data": {
            "text/plain": [
              "(8764, 8)"
            ]
          },
          "metadata": {
            "tags": []
          },
          "execution_count": 225
        }
      ]
    },
    {
      "cell_type": "code",
      "metadata": {
        "colab": {
          "base_uri": "https://localhost:8080/",
          "height": 206
        },
        "id": "QgMTCq710A3j",
        "outputId": "72779cc5-2228-48f6-b906-312e9751cef0"
      },
      "source": [
        "# Assigning each category a number for Category feature\n",
        "category={'A': 1,'B':2,'C':3,'D':4,'E':5,'F':6,'G':7,'H':8}\n",
        "test_data[\"category\"]=test_data[\"category\"].map(category)\n",
        "test_data.head()\n"
      ],
      "execution_count": 226,
      "outputs": [
        {
          "output_type": "execute_result",
          "data": {
            "text/html": [
              "<div>\n",
              "<style scoped>\n",
              "    .dataframe tbody tr th:only-of-type {\n",
              "        vertical-align: middle;\n",
              "    }\n",
              "\n",
              "    .dataframe tbody tr th {\n",
              "        vertical-align: top;\n",
              "    }\n",
              "\n",
              "    .dataframe thead th {\n",
              "        text-align: right;\n",
              "    }\n",
              "</style>\n",
              "<table border=\"1\" class=\"dataframe\">\n",
              "  <thead>\n",
              "    <tr style=\"text-align: right;\">\n",
              "      <th></th>\n",
              "      <th>vidid</th>\n",
              "      <th>views</th>\n",
              "      <th>likes</th>\n",
              "      <th>dislikes</th>\n",
              "      <th>comment</th>\n",
              "      <th>published</th>\n",
              "      <th>duration</th>\n",
              "      <th>category</th>\n",
              "    </tr>\n",
              "  </thead>\n",
              "  <tbody>\n",
              "    <tr>\n",
              "      <th>0</th>\n",
              "      <td>VID_1054</td>\n",
              "      <td>440238</td>\n",
              "      <td>6153</td>\n",
              "      <td>218</td>\n",
              "      <td>1377</td>\n",
              "      <td>2017-02-18</td>\n",
              "      <td>PT7M29S</td>\n",
              "      <td>2</td>\n",
              "    </tr>\n",
              "    <tr>\n",
              "      <th>1</th>\n",
              "      <td>VID_18629</td>\n",
              "      <td>1040132</td>\n",
              "      <td>8171</td>\n",
              "      <td>340</td>\n",
              "      <td>1047</td>\n",
              "      <td>2016-06-28</td>\n",
              "      <td>PT6M29S</td>\n",
              "      <td>6</td>\n",
              "    </tr>\n",
              "    <tr>\n",
              "      <th>2</th>\n",
              "      <td>VID_13967</td>\n",
              "      <td>28534</td>\n",
              "      <td>31</td>\n",
              "      <td>11</td>\n",
              "      <td>1</td>\n",
              "      <td>2014-03-10</td>\n",
              "      <td>PT37M54S</td>\n",
              "      <td>4</td>\n",
              "    </tr>\n",
              "    <tr>\n",
              "      <th>3</th>\n",
              "      <td>VID_19442</td>\n",
              "      <td>1316715</td>\n",
              "      <td>2284</td>\n",
              "      <td>250</td>\n",
              "      <td>274</td>\n",
              "      <td>2010-06-05</td>\n",
              "      <td>PT9M55S</td>\n",
              "      <td>7</td>\n",
              "    </tr>\n",
              "    <tr>\n",
              "      <th>4</th>\n",
              "      <td>VID_770</td>\n",
              "      <td>1893173</td>\n",
              "      <td>2519</td>\n",
              "      <td>225</td>\n",
              "      <td>116</td>\n",
              "      <td>2016-09-03</td>\n",
              "      <td>PT3M8S</td>\n",
              "      <td>2</td>\n",
              "    </tr>\n",
              "  </tbody>\n",
              "</table>\n",
              "</div>"
            ],
            "text/plain": [
              "       vidid    views likes dislikes comment   published  duration  category\n",
              "0   VID_1054   440238  6153      218    1377  2017-02-18   PT7M29S         2\n",
              "1  VID_18629  1040132  8171      340    1047  2016-06-28   PT6M29S         6\n",
              "2  VID_13967    28534    31       11       1  2014-03-10  PT37M54S         4\n",
              "3  VID_19442  1316715  2284      250     274  2010-06-05   PT9M55S         7\n",
              "4    VID_770  1893173  2519      225     116  2016-09-03    PT3M8S         2"
            ]
          },
          "metadata": {
            "tags": []
          },
          "execution_count": 226
        }
      ]
    },
    {
      "cell_type": "code",
      "metadata": {
        "id": "bb8iwPYV0Cq3"
      },
      "source": [
        "# Convert Time_in_sec for duration\n",
        "import datetime\n",
        "import time"
      ],
      "execution_count": 227,
      "outputs": []
    },
    {
      "cell_type": "code",
      "metadata": {
        "id": "Ix_p7uwA2O6a"
      },
      "source": [
        "def checki(x):\n",
        "  y = x[2:]\n",
        "  h = ''\n",
        "  m = ''\n",
        "  s = ''\n",
        "  mm = ''\n",
        "  P = ['H','M','S']\n",
        "  for i in y:\n",
        "    if i not in P:\n",
        "      mm+=i\n",
        "    else:\n",
        "      if (i==\"H\"):\n",
        "        h = mm\n",
        "        mm = ''\n",
        "      elif (i == \"M\"):\n",
        "        m = mm\n",
        "        mm = ''\n",
        "      else:\n",
        "        s = mm\n",
        "        mm = ''\n",
        "  if (h==''):\n",
        "    h = '00'\n",
        "  if (m == ''):\n",
        "    m = '00'\n",
        "  if (s==''):\n",
        "    s='00'\n",
        "  bp = h+':'+m+':'+s\n",
        "  return bp\n",
        "train=pd.read_csv(\"test.csv\")\n",
        "mp = pd.read_csv(path + \"test.csv\")[\"duration\"]\n",
        "time = mp.apply(checki)"
      ],
      "execution_count": 228,
      "outputs": []
    },
    {
      "cell_type": "code",
      "metadata": {
        "id": "MaThdXcr2TCo"
      },
      "source": [
        "def func_sec(time_string):\n",
        "  h, m, s = time_string.split(':')\n",
        "  return int(h) * 3600 + int(m) * 60 + int(s)\n",
        "time1=time.apply(func_sec)"
      ],
      "execution_count": 229,
      "outputs": []
    },
    {
      "cell_type": "code",
      "metadata": {
        "colab": {
          "base_uri": "https://localhost:8080/",
          "height": 206
        },
        "id": "2lbJE4sa2fBG",
        "outputId": "c3b230c7-e4c8-40a4-ccdb-d3b5223a2cfa"
      },
      "source": [
        "test_data[\"duration\"]=time1\n",
        "test_data.head()"
      ],
      "execution_count": 230,
      "outputs": [
        {
          "output_type": "execute_result",
          "data": {
            "text/html": [
              "<div>\n",
              "<style scoped>\n",
              "    .dataframe tbody tr th:only-of-type {\n",
              "        vertical-align: middle;\n",
              "    }\n",
              "\n",
              "    .dataframe tbody tr th {\n",
              "        vertical-align: top;\n",
              "    }\n",
              "\n",
              "    .dataframe thead th {\n",
              "        text-align: right;\n",
              "    }\n",
              "</style>\n",
              "<table border=\"1\" class=\"dataframe\">\n",
              "  <thead>\n",
              "    <tr style=\"text-align: right;\">\n",
              "      <th></th>\n",
              "      <th>vidid</th>\n",
              "      <th>views</th>\n",
              "      <th>likes</th>\n",
              "      <th>dislikes</th>\n",
              "      <th>comment</th>\n",
              "      <th>published</th>\n",
              "      <th>duration</th>\n",
              "      <th>category</th>\n",
              "    </tr>\n",
              "  </thead>\n",
              "  <tbody>\n",
              "    <tr>\n",
              "      <th>0</th>\n",
              "      <td>VID_1054</td>\n",
              "      <td>440238</td>\n",
              "      <td>6153</td>\n",
              "      <td>218</td>\n",
              "      <td>1377</td>\n",
              "      <td>2017-02-18</td>\n",
              "      <td>449</td>\n",
              "      <td>2</td>\n",
              "    </tr>\n",
              "    <tr>\n",
              "      <th>1</th>\n",
              "      <td>VID_18629</td>\n",
              "      <td>1040132</td>\n",
              "      <td>8171</td>\n",
              "      <td>340</td>\n",
              "      <td>1047</td>\n",
              "      <td>2016-06-28</td>\n",
              "      <td>389</td>\n",
              "      <td>6</td>\n",
              "    </tr>\n",
              "    <tr>\n",
              "      <th>2</th>\n",
              "      <td>VID_13967</td>\n",
              "      <td>28534</td>\n",
              "      <td>31</td>\n",
              "      <td>11</td>\n",
              "      <td>1</td>\n",
              "      <td>2014-03-10</td>\n",
              "      <td>2274</td>\n",
              "      <td>4</td>\n",
              "    </tr>\n",
              "    <tr>\n",
              "      <th>3</th>\n",
              "      <td>VID_19442</td>\n",
              "      <td>1316715</td>\n",
              "      <td>2284</td>\n",
              "      <td>250</td>\n",
              "      <td>274</td>\n",
              "      <td>2010-06-05</td>\n",
              "      <td>595</td>\n",
              "      <td>7</td>\n",
              "    </tr>\n",
              "    <tr>\n",
              "      <th>4</th>\n",
              "      <td>VID_770</td>\n",
              "      <td>1893173</td>\n",
              "      <td>2519</td>\n",
              "      <td>225</td>\n",
              "      <td>116</td>\n",
              "      <td>2016-09-03</td>\n",
              "      <td>188</td>\n",
              "      <td>2</td>\n",
              "    </tr>\n",
              "  </tbody>\n",
              "</table>\n",
              "</div>"
            ],
            "text/plain": [
              "       vidid    views likes dislikes comment   published  duration  category\n",
              "0   VID_1054   440238  6153      218    1377  2017-02-18       449         2\n",
              "1  VID_18629  1040132  8171      340    1047  2016-06-28       389         6\n",
              "2  VID_13967    28534    31       11       1  2014-03-10      2274         4\n",
              "3  VID_19442  1316715  2284      250     274  2010-06-05       595         7\n",
              "4    VID_770  1893173  2519      225     116  2016-09-03       188         2"
            ]
          },
          "metadata": {
            "tags": []
          },
          "execution_count": 230
        }
      ]
    },
    {
      "cell_type": "code",
      "metadata": {
        "id": "k2s307cH2p_H"
      },
      "source": [
        "test_data['published']=LabelEncoder().fit_transform(test_data['published'])"
      ],
      "execution_count": 231,
      "outputs": []
    },
    {
      "cell_type": "code",
      "metadata": {
        "colab": {
          "base_uri": "https://localhost:8080/",
          "height": 206
        },
        "id": "w5WDd5EY28me",
        "outputId": "eab0bdd2-7087-481d-f436-790f8433c91a"
      },
      "source": [
        "test_data.head()"
      ],
      "execution_count": 232,
      "outputs": [
        {
          "output_type": "execute_result",
          "data": {
            "text/html": [
              "<div>\n",
              "<style scoped>\n",
              "    .dataframe tbody tr th:only-of-type {\n",
              "        vertical-align: middle;\n",
              "    }\n",
              "\n",
              "    .dataframe tbody tr th {\n",
              "        vertical-align: top;\n",
              "    }\n",
              "\n",
              "    .dataframe thead th {\n",
              "        text-align: right;\n",
              "    }\n",
              "</style>\n",
              "<table border=\"1\" class=\"dataframe\">\n",
              "  <thead>\n",
              "    <tr style=\"text-align: right;\">\n",
              "      <th></th>\n",
              "      <th>vidid</th>\n",
              "      <th>views</th>\n",
              "      <th>likes</th>\n",
              "      <th>dislikes</th>\n",
              "      <th>comment</th>\n",
              "      <th>published</th>\n",
              "      <th>duration</th>\n",
              "      <th>category</th>\n",
              "    </tr>\n",
              "  </thead>\n",
              "  <tbody>\n",
              "    <tr>\n",
              "      <th>0</th>\n",
              "      <td>VID_1054</td>\n",
              "      <td>440238</td>\n",
              "      <td>6153</td>\n",
              "      <td>218</td>\n",
              "      <td>1377</td>\n",
              "      <td>2055</td>\n",
              "      <td>449</td>\n",
              "      <td>2</td>\n",
              "    </tr>\n",
              "    <tr>\n",
              "      <th>1</th>\n",
              "      <td>VID_18629</td>\n",
              "      <td>1040132</td>\n",
              "      <td>8171</td>\n",
              "      <td>340</td>\n",
              "      <td>1047</td>\n",
              "      <td>1827</td>\n",
              "      <td>389</td>\n",
              "      <td>6</td>\n",
              "    </tr>\n",
              "    <tr>\n",
              "      <th>2</th>\n",
              "      <td>VID_13967</td>\n",
              "      <td>28534</td>\n",
              "      <td>31</td>\n",
              "      <td>11</td>\n",
              "      <td>1</td>\n",
              "      <td>1010</td>\n",
              "      <td>2274</td>\n",
              "      <td>4</td>\n",
              "    </tr>\n",
              "    <tr>\n",
              "      <th>3</th>\n",
              "      <td>VID_19442</td>\n",
              "      <td>1316715</td>\n",
              "      <td>2284</td>\n",
              "      <td>250</td>\n",
              "      <td>274</td>\n",
              "      <td>117</td>\n",
              "      <td>595</td>\n",
              "      <td>7</td>\n",
              "    </tr>\n",
              "    <tr>\n",
              "      <th>4</th>\n",
              "      <td>VID_770</td>\n",
              "      <td>1893173</td>\n",
              "      <td>2519</td>\n",
              "      <td>225</td>\n",
              "      <td>116</td>\n",
              "      <td>1894</td>\n",
              "      <td>188</td>\n",
              "      <td>2</td>\n",
              "    </tr>\n",
              "  </tbody>\n",
              "</table>\n",
              "</div>"
            ],
            "text/plain": [
              "       vidid    views likes dislikes comment  published  duration  category\n",
              "0   VID_1054   440238  6153      218    1377       2055       449         2\n",
              "1  VID_18629  1040132  8171      340    1047       1827       389         6\n",
              "2  VID_13967    28534    31       11       1       1010      2274         4\n",
              "3  VID_19442  1316715  2284      250     274        117       595         7\n",
              "4    VID_770  1893173  2519      225     116       1894       188         2"
            ]
          },
          "metadata": {
            "tags": []
          },
          "execution_count": 232
        }
      ]
    },
    {
      "cell_type": "code",
      "metadata": {
        "colab": {
          "base_uri": "https://localhost:8080/",
          "height": 206
        },
        "id": "UyKTVaui3DTl",
        "outputId": "4c4d8509-f414-48dc-bd54-5a522193e388"
      },
      "source": [
        "test_data=test_data.drop([\"vidid\"],axis=1)\n",
        "test_data.head()\n"
      ],
      "execution_count": 233,
      "outputs": [
        {
          "output_type": "execute_result",
          "data": {
            "text/html": [
              "<div>\n",
              "<style scoped>\n",
              "    .dataframe tbody tr th:only-of-type {\n",
              "        vertical-align: middle;\n",
              "    }\n",
              "\n",
              "    .dataframe tbody tr th {\n",
              "        vertical-align: top;\n",
              "    }\n",
              "\n",
              "    .dataframe thead th {\n",
              "        text-align: right;\n",
              "    }\n",
              "</style>\n",
              "<table border=\"1\" class=\"dataframe\">\n",
              "  <thead>\n",
              "    <tr style=\"text-align: right;\">\n",
              "      <th></th>\n",
              "      <th>views</th>\n",
              "      <th>likes</th>\n",
              "      <th>dislikes</th>\n",
              "      <th>comment</th>\n",
              "      <th>published</th>\n",
              "      <th>duration</th>\n",
              "      <th>category</th>\n",
              "    </tr>\n",
              "  </thead>\n",
              "  <tbody>\n",
              "    <tr>\n",
              "      <th>0</th>\n",
              "      <td>440238</td>\n",
              "      <td>6153</td>\n",
              "      <td>218</td>\n",
              "      <td>1377</td>\n",
              "      <td>2055</td>\n",
              "      <td>449</td>\n",
              "      <td>2</td>\n",
              "    </tr>\n",
              "    <tr>\n",
              "      <th>1</th>\n",
              "      <td>1040132</td>\n",
              "      <td>8171</td>\n",
              "      <td>340</td>\n",
              "      <td>1047</td>\n",
              "      <td>1827</td>\n",
              "      <td>389</td>\n",
              "      <td>6</td>\n",
              "    </tr>\n",
              "    <tr>\n",
              "      <th>2</th>\n",
              "      <td>28534</td>\n",
              "      <td>31</td>\n",
              "      <td>11</td>\n",
              "      <td>1</td>\n",
              "      <td>1010</td>\n",
              "      <td>2274</td>\n",
              "      <td>4</td>\n",
              "    </tr>\n",
              "    <tr>\n",
              "      <th>3</th>\n",
              "      <td>1316715</td>\n",
              "      <td>2284</td>\n",
              "      <td>250</td>\n",
              "      <td>274</td>\n",
              "      <td>117</td>\n",
              "      <td>595</td>\n",
              "      <td>7</td>\n",
              "    </tr>\n",
              "    <tr>\n",
              "      <th>4</th>\n",
              "      <td>1893173</td>\n",
              "      <td>2519</td>\n",
              "      <td>225</td>\n",
              "      <td>116</td>\n",
              "      <td>1894</td>\n",
              "      <td>188</td>\n",
              "      <td>2</td>\n",
              "    </tr>\n",
              "  </tbody>\n",
              "</table>\n",
              "</div>"
            ],
            "text/plain": [
              "     views likes dislikes comment  published  duration  category\n",
              "0   440238  6153      218    1377       2055       449         2\n",
              "1  1040132  8171      340    1047       1827       389         6\n",
              "2    28534    31       11       1       1010      2274         4\n",
              "3  1316715  2284      250     274        117       595         7\n",
              "4  1893173  2519      225     116       1894       188         2"
            ]
          },
          "metadata": {
            "tags": []
          },
          "execution_count": 233
        }
      ]
    },
    {
      "cell_type": "code",
      "metadata": {
        "colab": {
          "base_uri": "https://localhost:8080/"
        },
        "id": "vu03woTd4I6E",
        "outputId": "9b73114a-18f7-4b26-c0af-7c728a009cec"
      },
      "source": [
        "test_data.info()"
      ],
      "execution_count": 234,
      "outputs": [
        {
          "output_type": "stream",
          "text": [
            "<class 'pandas.core.frame.DataFrame'>\n",
            "RangeIndex: 8764 entries, 0 to 8763\n",
            "Data columns (total 7 columns):\n",
            " #   Column     Non-Null Count  Dtype \n",
            "---  ------     --------------  ----- \n",
            " 0   views      8764 non-null   object\n",
            " 1   likes      8764 non-null   object\n",
            " 2   dislikes   8764 non-null   object\n",
            " 3   comment    8764 non-null   object\n",
            " 4   published  8764 non-null   int64 \n",
            " 5   duration   8764 non-null   int64 \n",
            " 6   category   8764 non-null   int64 \n",
            "dtypes: int64(3), object(4)\n",
            "memory usage: 479.4+ KB\n"
          ],
          "name": "stdout"
        }
      ]
    },
    {
      "cell_type": "code",
      "metadata": {
        "id": "2UFZE7-15Cjb"
      },
      "source": [
        "test_data=test_data[test_data.views!='F']\n",
        "test_data=test_data[test_data.likes!='F']\n",
        "test_data=test_data[test_data.dislikes!='F']\n",
        "test_data=test_data[test_data.comment!='F']"
      ],
      "execution_count": 235,
      "outputs": []
    },
    {
      "cell_type": "code",
      "metadata": {
        "id": "NLDoZ1Sp4ds7"
      },
      "source": [
        "# Convert values to integers for views, likes, comments, dislikes and adview\n",
        "test_data[\"views\"] = pd.to_numeric(test_data[\"views\"])\n",
        "test_data[\"comment\"] = pd.to_numeric(test_data[\"comment\"])\n",
        "test_data[\"likes\"] = pd.to_numeric(test_data[\"likes\"])\n",
        "test_data[\"dislikes\"] = pd.to_numeric(test_data[\"dislikes\"])"
      ],
      "execution_count": 236,
      "outputs": []
    },
    {
      "cell_type": "code",
      "metadata": {
        "colab": {
          "base_uri": "https://localhost:8080/",
          "height": 206
        },
        "id": "uoOoJv5nQeFN",
        "outputId": "19231ef9-5998-47d2-c3d2-08a12b7a6de6"
      },
      "source": [
        "test_data.head()"
      ],
      "execution_count": 237,
      "outputs": [
        {
          "output_type": "execute_result",
          "data": {
            "text/html": [
              "<div>\n",
              "<style scoped>\n",
              "    .dataframe tbody tr th:only-of-type {\n",
              "        vertical-align: middle;\n",
              "    }\n",
              "\n",
              "    .dataframe tbody tr th {\n",
              "        vertical-align: top;\n",
              "    }\n",
              "\n",
              "    .dataframe thead th {\n",
              "        text-align: right;\n",
              "    }\n",
              "</style>\n",
              "<table border=\"1\" class=\"dataframe\">\n",
              "  <thead>\n",
              "    <tr style=\"text-align: right;\">\n",
              "      <th></th>\n",
              "      <th>views</th>\n",
              "      <th>likes</th>\n",
              "      <th>dislikes</th>\n",
              "      <th>comment</th>\n",
              "      <th>published</th>\n",
              "      <th>duration</th>\n",
              "      <th>category</th>\n",
              "    </tr>\n",
              "  </thead>\n",
              "  <tbody>\n",
              "    <tr>\n",
              "      <th>0</th>\n",
              "      <td>440238</td>\n",
              "      <td>6153</td>\n",
              "      <td>218</td>\n",
              "      <td>1377</td>\n",
              "      <td>2055</td>\n",
              "      <td>449</td>\n",
              "      <td>2</td>\n",
              "    </tr>\n",
              "    <tr>\n",
              "      <th>1</th>\n",
              "      <td>1040132</td>\n",
              "      <td>8171</td>\n",
              "      <td>340</td>\n",
              "      <td>1047</td>\n",
              "      <td>1827</td>\n",
              "      <td>389</td>\n",
              "      <td>6</td>\n",
              "    </tr>\n",
              "    <tr>\n",
              "      <th>2</th>\n",
              "      <td>28534</td>\n",
              "      <td>31</td>\n",
              "      <td>11</td>\n",
              "      <td>1</td>\n",
              "      <td>1010</td>\n",
              "      <td>2274</td>\n",
              "      <td>4</td>\n",
              "    </tr>\n",
              "    <tr>\n",
              "      <th>3</th>\n",
              "      <td>1316715</td>\n",
              "      <td>2284</td>\n",
              "      <td>250</td>\n",
              "      <td>274</td>\n",
              "      <td>117</td>\n",
              "      <td>595</td>\n",
              "      <td>7</td>\n",
              "    </tr>\n",
              "    <tr>\n",
              "      <th>4</th>\n",
              "      <td>1893173</td>\n",
              "      <td>2519</td>\n",
              "      <td>225</td>\n",
              "      <td>116</td>\n",
              "      <td>1894</td>\n",
              "      <td>188</td>\n",
              "      <td>2</td>\n",
              "    </tr>\n",
              "  </tbody>\n",
              "</table>\n",
              "</div>"
            ],
            "text/plain": [
              "     views  likes  dislikes  comment  published  duration  category\n",
              "0   440238   6153       218     1377       2055       449         2\n",
              "1  1040132   8171       340     1047       1827       389         6\n",
              "2    28534     31        11        1       1010      2274         4\n",
              "3  1316715   2284       250      274        117       595         7\n",
              "4  1893173   2519       225      116       1894       188         2"
            ]
          },
          "metadata": {
            "tags": []
          },
          "execution_count": 237
        }
      ]
    },
    {
      "cell_type": "code",
      "metadata": {
        "id": "Er8WOHlV3fYc"
      },
      "source": [
        "predictions = decision_tree.predict(test_data)"
      ],
      "execution_count": 238,
      "outputs": []
    },
    {
      "cell_type": "code",
      "metadata": {
        "colab": {
          "base_uri": "https://localhost:8080/"
        },
        "id": "mTqNb8up5xOX",
        "outputId": "d3bc4017-14de-4898-b1d5-67dd1d48dfb4"
      },
      "source": [
        "print(predictions)"
      ],
      "execution_count": 239,
      "outputs": [
        {
          "output_type": "stream",
          "text": [
            "[11.  1.  2. ...  6.  3.  1.]\n"
          ],
          "name": "stdout"
        }
      ]
    },
    {
      "cell_type": "code",
      "metadata": {
        "id": "RkvHx0dE4Ep6"
      },
      "source": [
        "df = pd.DataFrame(predictions, columns = ['predictions'])"
      ],
      "execution_count": 240,
      "outputs": []
    },
    {
      "cell_type": "code",
      "metadata": {
        "colab": {
          "base_uri": "https://localhost:8080/",
          "height": 206
        },
        "id": "dnLX-J8f5sKN",
        "outputId": "f3db61bb-40a1-4588-8885-ebbb2e31338d"
      },
      "source": [
        "df.head()"
      ],
      "execution_count": 241,
      "outputs": [
        {
          "output_type": "execute_result",
          "data": {
            "text/html": [
              "<div>\n",
              "<style scoped>\n",
              "    .dataframe tbody tr th:only-of-type {\n",
              "        vertical-align: middle;\n",
              "    }\n",
              "\n",
              "    .dataframe tbody tr th {\n",
              "        vertical-align: top;\n",
              "    }\n",
              "\n",
              "    .dataframe thead th {\n",
              "        text-align: right;\n",
              "    }\n",
              "</style>\n",
              "<table border=\"1\" class=\"dataframe\">\n",
              "  <thead>\n",
              "    <tr style=\"text-align: right;\">\n",
              "      <th></th>\n",
              "      <th>predictions</th>\n",
              "    </tr>\n",
              "  </thead>\n",
              "  <tbody>\n",
              "    <tr>\n",
              "      <th>0</th>\n",
              "      <td>11.0</td>\n",
              "    </tr>\n",
              "    <tr>\n",
              "      <th>1</th>\n",
              "      <td>1.0</td>\n",
              "    </tr>\n",
              "    <tr>\n",
              "      <th>2</th>\n",
              "      <td>2.0</td>\n",
              "    </tr>\n",
              "    <tr>\n",
              "      <th>3</th>\n",
              "      <td>6.0</td>\n",
              "    </tr>\n",
              "    <tr>\n",
              "      <th>4</th>\n",
              "      <td>3.0</td>\n",
              "    </tr>\n",
              "  </tbody>\n",
              "</table>\n",
              "</div>"
            ],
            "text/plain": [
              "   predictions\n",
              "0         11.0\n",
              "1          1.0\n",
              "2          2.0\n",
              "3          6.0\n",
              "4          3.0"
            ]
          },
          "metadata": {
            "tags": []
          },
          "execution_count": 241
        }
      ]
    },
    {
      "cell_type": "code",
      "metadata": {
        "id": "rPw46X6HjcMi"
      },
      "source": [
        "g=random_forest.predict([[620860,777,161,153,2119,2546,8]])"
      ],
      "execution_count": 242,
      "outputs": []
    },
    {
      "cell_type": "code",
      "metadata": {
        "colab": {
          "base_uri": "https://localhost:8080/"
        },
        "id": "M02oqC0VkKu-",
        "outputId": "2cc5386f-c3e2-4cb3-a70f-99e66b0d79e1"
      },
      "source": [
        "g"
      ],
      "execution_count": 243,
      "outputs": [
        {
          "output_type": "execute_result",
          "data": {
            "text/plain": [
              "array([6.84702138])"
            ]
          },
          "metadata": {
            "tags": []
          },
          "execution_count": 243
        }
      ]
    },
    {
      "cell_type": "code",
      "metadata": {
        "id": "CcDTYkkIlGuu"
      },
      "source": [
        "df.to_csv('predictions.csv')"
      ],
      "execution_count": 244,
      "outputs": []
    },
    {
      "cell_type": "code",
      "metadata": {
        "id": "ZEJDK39elMTT"
      },
      "source": [
        "m=decision_tree.predict([[620860,777,161,153,2119,2546,8]])"
      ],
      "execution_count": 245,
      "outputs": []
    },
    {
      "cell_type": "code",
      "metadata": {
        "colab": {
          "base_uri": "https://localhost:8080/"
        },
        "id": "ly1iOMuVnMg0",
        "outputId": "1efb6fff-e1a7-4d7b-84ba-43d0abb39f0b"
      },
      "source": [
        "m"
      ],
      "execution_count": 246,
      "outputs": [
        {
          "output_type": "execute_result",
          "data": {
            "text/plain": [
              "array([2.])"
            ]
          },
          "metadata": {
            "tags": []
          },
          "execution_count": 246
        }
      ]
    },
    {
      "cell_type": "code",
      "metadata": {
        "id": "pDtLkKcgnNGw"
      },
      "source": [
        "f=decision_tree.predict([[1031602,8523,363,1095,2168,457,6]])"
      ],
      "execution_count": 247,
      "outputs": []
    },
    {
      "cell_type": "code",
      "metadata": {
        "colab": {
          "base_uri": "https://localhost:8080/"
        },
        "id": "L_OEtN1one98",
        "outputId": "34321875-ebff-4b92-f750-ecfeb178e24b"
      },
      "source": [
        "f"
      ],
      "execution_count": 248,
      "outputs": [
        {
          "output_type": "execute_result",
          "data": {
            "text/plain": [
              "array([40.])"
            ]
          },
          "metadata": {
            "tags": []
          },
          "execution_count": 248
        }
      ]
    },
    {
      "cell_type": "code",
      "metadata": {
        "id": "5x5V2QCnn9hI"
      },
      "source": [
        "j=decision_tree.predict([[2023,25,0,2,2094,136,3]])"
      ],
      "execution_count": 249,
      "outputs": []
    },
    {
      "cell_type": "code",
      "metadata": {
        "colab": {
          "base_uri": "https://localhost:8080/"
        },
        "id": "miWag2WyoEvF",
        "outputId": "5ae5034b-9cfa-4cb2-c28c-ee4979443745"
      },
      "source": [
        "j"
      ],
      "execution_count": 250,
      "outputs": [
        {
          "output_type": "execute_result",
          "data": {
            "text/plain": [
              "array([1.])"
            ]
          },
          "metadata": {
            "tags": []
          },
          "execution_count": 250
        }
      ]
    },
    {
      "cell_type": "code",
      "metadata": {
        "id": "6TGg0EeQU9He"
      },
      "source": [
        ""
      ],
      "execution_count": 72,
      "outputs": []
    }
  ]
}